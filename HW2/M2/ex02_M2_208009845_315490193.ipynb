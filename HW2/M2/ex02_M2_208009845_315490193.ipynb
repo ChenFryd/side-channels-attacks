{
  "cells": [
    {
      "cell_type": "markdown",
      "id": "61b88ca7",
      "metadata": {
        "id": "61b88ca7"
      },
      "source": [
        "# Correlation Power Analysis\n",
        "Submitters:\n",
        "1. Chen Frydman 208009845\n",
        "2. Hadi Shaheen 315490193"
      ]
    },
    {
      "cell_type": "markdown",
      "id": "c675fe2e",
      "metadata": {
        "id": "c675fe2e"
      },
      "source": [
        "```bash\n",
        "docker pull annakul1/attacks_on_implementations:Assignment2\n",
        "docker run -p 80:8080 annakul1/attacks_on_implementations:Assignment2\n",
        "```"
      ]
    },
    {
      "cell_type": "markdown",
      "id": "e464ae3a",
      "metadata": {
        "id": "e464ae3a"
      },
      "source": [
        "# Imports"
      ]
    },
    {
      "cell_type": "code",
      "execution_count": 1,
      "id": "795af469",
      "metadata": {
        "id": "795af469"
      },
      "outputs": [],
      "source": [
        "import requests\n",
        "import numpy as np\n",
        "import time\n",
        "import os\n",
        "import concurrent.futures"
      ]
    },
    {
      "cell_type": "markdown",
      "id": "536b7e83",
      "metadata": {
        "id": "536b7e83"
      },
      "source": [
        "# Parameters"
      ]
    },
    {
      "cell_type": "code",
      "execution_count": 2,
      "id": "01b09528",
      "metadata": {
        "id": "01b09528",
        "outputId": "ee5eaf11-d15c-4362-8302-e6d45d7b184a"
      },
      "outputs": [
        {
          "name": "stdout",
          "output_type": "stream",
          "text": [
            "http://aoi-assignment2.oy.ne.ro:8080/encrypt?user=208009845&difficulty=1\n"
          ]
        }
      ],
      "source": [
        "USER = 208009845\n",
        "DIFFICULTY = 1\n",
        "BASE_URL = \"aoi-assignment2.oy.ne.ro\"\n",
        "MAX_PLAINTEXT_LENGTH = 32\n",
        "MAX_KEY_LENGTHH = 32\n",
        "AMOUNT_OF_TRACES = 10000\n",
        "TIME_LIMIT = 10 * 60 # 10 minutes in seconds\n",
        "DIFFICULTY_TO_DOWNLOAD = 20\n",
        "KEY_LENGTH = 16\n",
        "PREFIX_TRACES_FILE_NAME = f\"traces_{USER}\"\n",
        "PREFIX_PLAINTEXT_FILE_NAME = f\"plaintext_{USER}\"\n",
        "PREFIX_ENCRYPT_URL = rf\"http://{BASE_URL}:8080/encrypt?user={USER}\"\n",
        "PREFIX_VERIFY_URL = rf\"http://{BASE_URL}:8080/verify?user={USER}\"\n",
        "\n",
        "AesSbox = [\n",
        "    0x63,0x7c,0x77,0x7b,0xf2,0x6b,0x6f,0xc5,0x30,0x01,0x67,0x2b,0xfe,0xd7,0xab,0x76,\n",
        "    0xca,0x82,0xc9,0x7d,0xfa,0x59,0x47,0xf0,0xad,0xd4,0xa2,0xaf,0x9c,0xa4,0x72,0xc0,\n",
        "    0xb7,0xfd,0x93,0x26,0x36,0x3f,0xf7,0xcc,0x34,0xa5,0xe5,0xf1,0x71,0xd8,0x31,0x15,\n",
        "    0x04,0xc7,0x23,0xc3,0x18,0x96,0x05,0x9a,0x07,0x12,0x80,0xe2,0xeb,0x27,0xb2,0x75,\n",
        "    0x09,0x83,0x2c,0x1a,0x1b,0x6e,0x5a,0xa0,0x52,0x3b,0xd6,0xb3,0x29,0xe3,0x2f,0x84,\n",
        "    0x53,0xd1,0x00,0xed,0x20,0xfc,0xb1,0x5b,0x6a,0xcb,0xbe,0x39,0x4a,0x4c,0x58,0xcf,\n",
        "    0xd0,0xef,0xaa,0xfb,0x43,0x4d,0x33,0x85,0x45,0xf9,0x02,0x7f,0x50,0x3c,0x9f,0xa8,\n",
        "    0x51,0xa3,0x40,0x8f,0x92,0x9d,0x38,0xf5,0xbc,0xb6,0xda,0x21,0x10,0xff,0xf3,0xd2,\n",
        "    0xcd,0x0c,0x13,0xec,0x5f,0x97,0x44,0x17,0xc4,0xa7,0x7e,0x3d,0x64,0x5d,0x19,0x73,\n",
        "    0x60,0x81,0x4f,0xdc,0x22,0x2a,0x90,0x88,0x46,0xee,0xb8,0x14,0xde,0x5e,0x0b,0xdb,\n",
        "    0xe0,0x32,0x3a,0x0a,0x49,0x06,0x24,0x5c,0xc2,0xd3,0xac,0x62,0x91,0x95,0xe4,0x79,\n",
        "    0xe7,0xc8,0x37,0x6d,0x8d,0xd5,0x4e,0xa9,0x6c,0x56,0xf4,0xea,0x65,0x7a,0xae,0x08,\n",
        "    0xba,0x78,0x25,0x2e,0x1c,0xa6,0xb4,0xc6,0xe8,0xdd,0x74,0x1f,0x4b,0xbd,0x8b,0x8a,\n",
        "    0x70,0x3e,0xb5,0x66,0x48,0x03,0xf6,0x0e,0x61,0x35,0x57,0xb9,0x86,0xc1,0x1d,0x9e,\n",
        "    0xe1,0xf8,0x98,0x11,0x69,0xd9,0x8e,0x94,0x9b,0x1e,0x87,0xe9,0xce,0x55,0x28,0xdf,\n",
        "    0x8c,0xa1,0x89,0x0d,0xbf,0xe6,0x42,0x68,0x41,0x99,0x2d,0x0f,0xb0,0x54,0xbb,0x16\n",
        "]\n",
        "\n",
        "print(f\"{PREFIX_ENCRYPT_URL}&difficulty={DIFFICULTY}\")"
      ]
    },
    {
      "cell_type": "markdown",
      "metadata": {},
      "source": [
        "# Crack the key"
      ]
    },
    {
      "cell_type": "code",
      "execution_count": 3,
      "id": "0ddd28d0",
      "metadata": {
        "id": "0ddd28d0"
      },
      "outputs": [],
      "source": [
        "def download_power_traces(\n",
        "    difficulty: int = DIFFICULTY,\n",
        "    prefix_traces_filename: str = PREFIX_TRACES_FILE_NAME,\n",
        "    prefix_plaintext_filename: str = PREFIX_PLAINTEXT_FILE_NAME,\n",
        "    serverURL: str = PREFIX_ENCRYPT_URL,\n",
        "    number_of_power_traces: int = AMOUNT_OF_TRACES,\n",
        "):\n",
        "    \"\"\"\n",
        "    Downloads power traces and corresponding plaintexts from the remote server and saves them to files.\n",
        "\n",
        "    Args:\n",
        "        prefix_traces_filename (str): Prefix for the power traces file name.\n",
        "        prefix_plaintext_filename (str): Prefix for the plaintexts file name.\n",
        "        serverURL (str): The base URL of the encryption server.\n",
        "        number_of_power_traces (int): Number of power traces to download.\n",
        "        difficulty (int): The difficulty level for the challenge.\n",
        "\n",
        "    Saves:\n",
        "        - Power traces to 'files/{prefix_traces_filename}_{difficulty}_{number_of_power_traces}.txt'\n",
        "        - Plaintexts to 'files/{prefix_plaintext_filename}_{difficulty}_{number_of_power_traces}.txt'\n",
        "    \"\"\"\n",
        "    os.makedirs(\"files\", exist_ok=True)\n",
        "    traces_filename = f\"{prefix_traces_filename}_{difficulty}_{number_of_power_traces}.txt\"\n",
        "    traces_filepath = os.path.join(\"files\", traces_filename)\n",
        "    if os.path.exists(traces_filepath):\n",
        "        print(f\"{traces_filepath} already exists. Skipping download.\")\n",
        "        return\n",
        "\n",
        "    plaintext_filename = f\"{prefix_plaintext_filename}_{difficulty}_{number_of_power_traces}.txt\"\n",
        "    plaintext_filepath = os.path.join(\"files\", plaintext_filename)\n",
        "    if os.path.exists(plaintext_filepath):\n",
        "        print(f\"{plaintext_filepath} already exists. Skipping download.\")\n",
        "        return\n",
        "\n",
        "    with open(plaintext_filepath, \"w\") as plaintext_file, open(traces_filepath, \"w\") as traces_file:\n",
        "        url = f\"{serverURL}&difficulty={difficulty}\"\n",
        "        print(url)\n",
        "        for _ in range(number_of_power_traces):\n",
        "            resp = requests.get(url)\n",
        "            data = resp.json()\n",
        "            plaintext = data[\"plaintext\"]\n",
        "            plaintext_file.write(\"\".join(map(str, plaintext)) + \"\\n\")\n",
        "            leaks = data[\"leaks\"]\n",
        "            traces_file.write(\" \".join(map(str, leaks)) + \"\\n\")\n",
        "\n",
        "\n",
        "\n",
        "def getMeansVariances(filename: str):\n",
        "    \"\"\"\n",
        "    Reads the file containing saved power traces and calculates the mean and variance\n",
        "    of each position in the trace.\n",
        "\n",
        "    Args:\n",
        "        filename (str): The name of the file containing the saved power traces.\n",
        "\n",
        "    Returns:\n",
        "        tuple: A tuple containing two lists:\n",
        "            - means (list): A list of means for each position in the trace.\n",
        "            - variances (list): A list of variances for each position in the trace.\n",
        "    \"\"\"\n",
        "    if not os.path.exists(filename):\n",
        "        raise FileNotFoundError(f\"{filename} does not exist. Please download the power traces first.\")\n",
        "\n",
        "    data = np.loadtxt(filename)\n",
        "    means = np.mean(data, axis=0)\n",
        "    variances = np.var(data, axis=0)\n",
        "    print(\"Mean\\tVariance\")\n",
        "    for m, v in zip(means, variances):\n",
        "        print(f\"{m}\\t{v}\")\n",
        "    return means.tolist(), variances.tolist()\n",
        "\n",
        "def hamming_weight(n):\n",
        "    \"\"\"Calculates the Hamming weight of an integer.\"\"\"\n",
        "    return bin(n).count('1')"
      ]
    },
    {
      "cell_type": "code",
      "execution_count": 15,
      "metadata": {},
      "outputs": [],
      "source": [
        "\n",
        "def find_key(trashhold, plaintext_filename, traces_filename, amount_of_traces: int = AMOUNT_OF_TRACES, key_length: int = KEY_LENGTH):\n",
        "    # Load plaintexts from plaintext_filename\n",
        "    plaintexts = []\n",
        "    with open(plaintext_filename, 'r') as pf:\n",
        "        for index, line in enumerate(pf):\n",
        "            if index == amount_of_traces:\n",
        "                break\n",
        "            cleaned_line = ''.join(line.strip().split()) \n",
        "            hex_bytes = [cleaned_line[i:i+2] for i in range(0, len(cleaned_line), 2)]\n",
        "            plaintexts.append([int(byte, 16) for byte in hex_bytes])\n",
        "    \n",
        "    # Load power traces from traces_filename\n",
        "    power_traces = []\n",
        "    with open(traces_filename, 'r') as tf:\n",
        "        for index, line in enumerate(tf):\n",
        "            if index == amount_of_traces:\n",
        "                break\n",
        "            power_traces.append([float(val) for val in line.strip().split()])\n",
        "    \n",
        "    if not power_traces or not plaintexts:\n",
        "        raise ValueError(\"Power traces or plaintexts are empty. Please check the input files.\")\n",
        "    \n",
        "    if not power_traces: \n",
        "        raise ValueError(\"No power traces loaded to determine trace length.\")\n",
        "    trace_length = len(power_traces[0]) \n",
        "\n",
        "    # Initialize results containers\n",
        "    found_key_bytes = [0] * KEY_LENGTH\n",
        "    best_correlations = [0.0] * KEY_LENGTH\n",
        "\n",
        "    for byte_index in range(key_length):\n",
        "        max_correlation = -1.0\n",
        "        best_key_guess = 0\n",
        "        for guess_k in range(256):\n",
        "            predicted_ham_weights = []\n",
        "            # Ensure we only iterate up to amount_of_traces if plaintexts has enough entries\n",
        "            for i in range(min(amount_of_traces, len(plaintexts))):\n",
        "                if byte_index >= len(plaintexts[i]):\n",
        "                    continue\n",
        "                intermediate_val = plaintexts[i][byte_index] ^ guess_k\n",
        "                sbox_output = AesSbox[intermediate_val]\n",
        "                predicted_ham_weights.append(hamming_weight(sbox_output))\n",
        "            \n",
        "            if not predicted_ham_weights:\n",
        "                continue\n",
        "\n",
        "            current_trace_point_correlations = []\n",
        "            \n",
        "            for trace_point_idx in range(trace_length): \n",
        "                # Ensure we only access traces that exist and have the given trace_point_idx\n",
        "                actual_power_values_at_point = [\n",
        "                    trace[trace_point_idx] for trace in power_traces if trace_point_idx < len(trace)\n",
        "                ]\n",
        "\n",
        "                # Only proceed if there are enough actual power values for correlation\n",
        "                if len(actual_power_values_at_point) != len(predicted_ham_weights):\n",
        "                    # This could happen if some traces are shorter than others\n",
        "                    continue \n",
        "\n",
        "                if np.std(actual_power_values_at_point) == 0 or np.std(predicted_ham_weights) == 0:\n",
        "                    correlation = 0 \n",
        "                else:\n",
        "                    correlation = np.corrcoef(predicted_ham_weights, actual_power_values_at_point)[0, 1]\n",
        "                \n",
        "                current_trace_point_correlations.append(abs(correlation))\n",
        "\n",
        "            if not current_trace_point_correlations:\n",
        "                continue\n",
        "\n",
        "            max_corr_for_guess = np.max(current_trace_point_correlations)\n",
        "\n",
        "            if max_corr_for_guess > max_correlation:\n",
        "                max_correlation = max_corr_for_guess\n",
        "                best_key_guess = guess_k\n",
        "                # Early stop condition - applied to single byte analysis\n",
        "                if max_correlation > trashhold: # The threshold you defined\n",
        "                    # print(f\"Early stop for byte {byte_index} with correlation {max_correlation:.4f}\") # Optional: for debugging\n",
        "                    print(\"Early stop,\", end=' ')\n",
        "                    break\n",
        "        print(f\"Byte {byte_index}: Best guess {best_key_guess:02x} with correlation {max_correlation:.4f}\")\n",
        "        found_key_bytes[byte_index] = best_key_guess\n",
        "        best_correlations[byte_index] = max_correlation\n",
        "\n",
        "\n",
        "    # Convert the list of byte integers to a hex string\n",
        "    final_key_hex = ''.join([format(byte, '02x') for byte in found_key_bytes])\n",
        "    return final_key_hex\n"
      ]
    },
    {
      "cell_type": "markdown",
      "metadata": {},
      "source": [
        "# Pre Download the files"
      ]
    },
    {
      "cell_type": "code",
      "execution_count": 24,
      "metadata": {},
      "outputs": [
        {
          "name": "stdout",
          "output_type": "stream",
          "text": [
            "http://aoi-assignment2.oy.ne.ro:8080/encrypt?user=208009845&difficulty=5\n",
            "Downloaded 10000 traces for difficulty level 5.\n",
            "http://aoi-assignment2.oy.ne.ro:8080/encrypt?user=208009845&difficulty=6\n",
            "Downloaded 10000 traces for difficulty level 6.\n",
            "http://aoi-assignment2.oy.ne.ro:8080/encrypt?user=208009845&difficulty=7\n",
            "Downloaded 10000 traces for difficulty level 7.\n",
            "http://aoi-assignment2.oy.ne.ro:8080/encrypt?user=208009845&difficulty=8\n",
            "Downloaded 10000 traces for difficulty level 8.\n",
            "http://aoi-assignment2.oy.ne.ro:8080/encrypt?user=208009845&difficulty=9\n",
            "Downloaded 10000 traces for difficulty level 9.\n",
            "http://aoi-assignment2.oy.ne.ro:8080/encrypt?user=208009845&difficulty=10\n",
            "Downloaded 10000 traces for difficulty level 10.\n",
            "http://aoi-assignment2.oy.ne.ro:8080/encrypt?user=208009845&difficulty=11\n"
          ]
        },
        {
          "ename": "KeyboardInterrupt",
          "evalue": "",
          "output_type": "error",
          "traceback": [
            "\u001b[31m---------------------------------------------------------------------------\u001b[39m",
            "\u001b[31mKeyboardInterrupt\u001b[39m                         Traceback (most recent call last)",
            "\u001b[36mCell\u001b[39m\u001b[36m \u001b[39m\u001b[32mIn[24]\u001b[39m\u001b[32m, line 2\u001b[39m\n\u001b[32m      1\u001b[39m \u001b[38;5;28;01mfor\u001b[39;00m difficulty \u001b[38;5;129;01min\u001b[39;00m \u001b[38;5;28mrange\u001b[39m(\u001b[32m5\u001b[39m, DIFFICULTY_TO_DOWNLOAD + \u001b[32m1\u001b[39m):\n\u001b[32m----> \u001b[39m\u001b[32m2\u001b[39m     \u001b[43mdownload_power_traces\u001b[49m\u001b[43m(\u001b[49m\u001b[43mdifficulty\u001b[49m\u001b[43m)\u001b[49m\n\u001b[32m      3\u001b[39m     \u001b[38;5;28mprint\u001b[39m(\u001b[33mf\u001b[39m\u001b[33m\"\u001b[39m\u001b[33mDownloaded \u001b[39m\u001b[38;5;132;01m{\u001b[39;00mAMOUNT_OF_TRACES\u001b[38;5;132;01m}\u001b[39;00m\u001b[33m traces for difficulty level \u001b[39m\u001b[38;5;132;01m{\u001b[39;00mdifficulty\u001b[38;5;132;01m}\u001b[39;00m\u001b[33m.\u001b[39m\u001b[33m\"\u001b[39m)\n\u001b[32m      4\u001b[39m \u001b[38;5;28mprint\u001b[39m(\u001b[33mf\u001b[39m\u001b[33m\"\u001b[39m\u001b[33mDownloaded \u001b[39m\u001b[38;5;132;01m{\u001b[39;00mAMOUNT_OF_TRACES\u001b[38;5;132;01m}\u001b[39;00m\u001b[33m traces for each difficulty level up to \u001b[39m\u001b[38;5;132;01m{\u001b[39;00mDIFFICULTY_TO_DOWNLOAD\u001b[38;5;132;01m}\u001b[39;00m\u001b[33m.\u001b[39m\u001b[33m\"\u001b[39m)\n",
            "\u001b[36mCell\u001b[39m\u001b[36m \u001b[39m\u001b[32mIn[3]\u001b[39m\u001b[32m, line 39\u001b[39m, in \u001b[36mdownload_power_traces\u001b[39m\u001b[34m(difficulty, prefix_traces_filename, prefix_plaintext_filename, serverURL, number_of_power_traces)\u001b[39m\n\u001b[32m     37\u001b[39m \u001b[38;5;28mprint\u001b[39m(url)\n\u001b[32m     38\u001b[39m \u001b[38;5;28;01mfor\u001b[39;00m _ \u001b[38;5;129;01min\u001b[39;00m \u001b[38;5;28mrange\u001b[39m(number_of_power_traces):\n\u001b[32m---> \u001b[39m\u001b[32m39\u001b[39m     resp = \u001b[43mrequests\u001b[49m\u001b[43m.\u001b[49m\u001b[43mget\u001b[49m\u001b[43m(\u001b[49m\u001b[43murl\u001b[49m\u001b[43m)\u001b[49m\n\u001b[32m     40\u001b[39m     data = resp.json()\n\u001b[32m     41\u001b[39m     plaintext = data[\u001b[33m\"\u001b[39m\u001b[33mplaintext\u001b[39m\u001b[33m\"\u001b[39m]\n",
            "\u001b[36mFile \u001b[39m\u001b[32mc:\\Users\\user\\anaconda3\\envs\\side_attacks\\Lib\\site-packages\\requests\\api.py:73\u001b[39m, in \u001b[36mget\u001b[39m\u001b[34m(url, params, **kwargs)\u001b[39m\n\u001b[32m     62\u001b[39m \u001b[38;5;28;01mdef\u001b[39;00m\u001b[38;5;250m \u001b[39m\u001b[34mget\u001b[39m(url, params=\u001b[38;5;28;01mNone\u001b[39;00m, **kwargs):\n\u001b[32m     63\u001b[39m \u001b[38;5;250m    \u001b[39m\u001b[33mr\u001b[39m\u001b[33;03m\"\"\"Sends a GET request.\u001b[39;00m\n\u001b[32m     64\u001b[39m \n\u001b[32m     65\u001b[39m \u001b[33;03m    :param url: URL for the new :class:`Request` object.\u001b[39;00m\n\u001b[32m   (...)\u001b[39m\u001b[32m     70\u001b[39m \u001b[33;03m    :rtype: requests.Response\u001b[39;00m\n\u001b[32m     71\u001b[39m \u001b[33;03m    \"\"\"\u001b[39;00m\n\u001b[32m---> \u001b[39m\u001b[32m73\u001b[39m     \u001b[38;5;28;01mreturn\u001b[39;00m \u001b[43mrequest\u001b[49m\u001b[43m(\u001b[49m\u001b[33;43m\"\u001b[39;49m\u001b[33;43mget\u001b[39;49m\u001b[33;43m\"\u001b[39;49m\u001b[43m,\u001b[49m\u001b[43m \u001b[49m\u001b[43murl\u001b[49m\u001b[43m,\u001b[49m\u001b[43m \u001b[49m\u001b[43mparams\u001b[49m\u001b[43m=\u001b[49m\u001b[43mparams\u001b[49m\u001b[43m,\u001b[49m\u001b[43m \u001b[49m\u001b[43m*\u001b[49m\u001b[43m*\u001b[49m\u001b[43mkwargs\u001b[49m\u001b[43m)\u001b[49m\n",
            "\u001b[36mFile \u001b[39m\u001b[32mc:\\Users\\user\\anaconda3\\envs\\side_attacks\\Lib\\site-packages\\requests\\api.py:59\u001b[39m, in \u001b[36mrequest\u001b[39m\u001b[34m(method, url, **kwargs)\u001b[39m\n\u001b[32m     55\u001b[39m \u001b[38;5;66;03m# By using the 'with' statement we are sure the session is closed, thus we\u001b[39;00m\n\u001b[32m     56\u001b[39m \u001b[38;5;66;03m# avoid leaving sockets open which can trigger a ResourceWarning in some\u001b[39;00m\n\u001b[32m     57\u001b[39m \u001b[38;5;66;03m# cases, and look like a memory leak in others.\u001b[39;00m\n\u001b[32m     58\u001b[39m \u001b[38;5;28;01mwith\u001b[39;00m sessions.Session() \u001b[38;5;28;01mas\u001b[39;00m session:\n\u001b[32m---> \u001b[39m\u001b[32m59\u001b[39m     \u001b[38;5;28;01mreturn\u001b[39;00m \u001b[43msession\u001b[49m\u001b[43m.\u001b[49m\u001b[43mrequest\u001b[49m\u001b[43m(\u001b[49m\u001b[43mmethod\u001b[49m\u001b[43m=\u001b[49m\u001b[43mmethod\u001b[49m\u001b[43m,\u001b[49m\u001b[43m \u001b[49m\u001b[43murl\u001b[49m\u001b[43m=\u001b[49m\u001b[43murl\u001b[49m\u001b[43m,\u001b[49m\u001b[43m \u001b[49m\u001b[43m*\u001b[49m\u001b[43m*\u001b[49m\u001b[43mkwargs\u001b[49m\u001b[43m)\u001b[49m\n",
            "\u001b[36mFile \u001b[39m\u001b[32mc:\\Users\\user\\anaconda3\\envs\\side_attacks\\Lib\\site-packages\\requests\\sessions.py:589\u001b[39m, in \u001b[36mSession.request\u001b[39m\u001b[34m(self, method, url, params, data, headers, cookies, files, auth, timeout, allow_redirects, proxies, hooks, stream, verify, cert, json)\u001b[39m\n\u001b[32m    584\u001b[39m send_kwargs = {\n\u001b[32m    585\u001b[39m     \u001b[33m\"\u001b[39m\u001b[33mtimeout\u001b[39m\u001b[33m\"\u001b[39m: timeout,\n\u001b[32m    586\u001b[39m     \u001b[33m\"\u001b[39m\u001b[33mallow_redirects\u001b[39m\u001b[33m\"\u001b[39m: allow_redirects,\n\u001b[32m    587\u001b[39m }\n\u001b[32m    588\u001b[39m send_kwargs.update(settings)\n\u001b[32m--> \u001b[39m\u001b[32m589\u001b[39m resp = \u001b[38;5;28;43mself\u001b[39;49m\u001b[43m.\u001b[49m\u001b[43msend\u001b[49m\u001b[43m(\u001b[49m\u001b[43mprep\u001b[49m\u001b[43m,\u001b[49m\u001b[43m \u001b[49m\u001b[43m*\u001b[49m\u001b[43m*\u001b[49m\u001b[43msend_kwargs\u001b[49m\u001b[43m)\u001b[49m\n\u001b[32m    591\u001b[39m \u001b[38;5;28;01mreturn\u001b[39;00m resp\n",
            "\u001b[36mFile \u001b[39m\u001b[32mc:\\Users\\user\\anaconda3\\envs\\side_attacks\\Lib\\site-packages\\requests\\sessions.py:703\u001b[39m, in \u001b[36mSession.send\u001b[39m\u001b[34m(self, request, **kwargs)\u001b[39m\n\u001b[32m    700\u001b[39m start = preferred_clock()\n\u001b[32m    702\u001b[39m \u001b[38;5;66;03m# Send the request\u001b[39;00m\n\u001b[32m--> \u001b[39m\u001b[32m703\u001b[39m r = \u001b[43madapter\u001b[49m\u001b[43m.\u001b[49m\u001b[43msend\u001b[49m\u001b[43m(\u001b[49m\u001b[43mrequest\u001b[49m\u001b[43m,\u001b[49m\u001b[43m \u001b[49m\u001b[43m*\u001b[49m\u001b[43m*\u001b[49m\u001b[43mkwargs\u001b[49m\u001b[43m)\u001b[49m\n\u001b[32m    705\u001b[39m \u001b[38;5;66;03m# Total elapsed time of the request (approximately)\u001b[39;00m\n\u001b[32m    706\u001b[39m elapsed = preferred_clock() - start\n",
            "\u001b[36mFile \u001b[39m\u001b[32mc:\\Users\\user\\anaconda3\\envs\\side_attacks\\Lib\\site-packages\\requests\\adapters.py:667\u001b[39m, in \u001b[36mHTTPAdapter.send\u001b[39m\u001b[34m(self, request, stream, timeout, verify, cert, proxies)\u001b[39m\n\u001b[32m    664\u001b[39m     timeout = TimeoutSauce(connect=timeout, read=timeout)\n\u001b[32m    666\u001b[39m \u001b[38;5;28;01mtry\u001b[39;00m:\n\u001b[32m--> \u001b[39m\u001b[32m667\u001b[39m     resp = \u001b[43mconn\u001b[49m\u001b[43m.\u001b[49m\u001b[43murlopen\u001b[49m\u001b[43m(\u001b[49m\n\u001b[32m    668\u001b[39m \u001b[43m        \u001b[49m\u001b[43mmethod\u001b[49m\u001b[43m=\u001b[49m\u001b[43mrequest\u001b[49m\u001b[43m.\u001b[49m\u001b[43mmethod\u001b[49m\u001b[43m,\u001b[49m\n\u001b[32m    669\u001b[39m \u001b[43m        \u001b[49m\u001b[43murl\u001b[49m\u001b[43m=\u001b[49m\u001b[43murl\u001b[49m\u001b[43m,\u001b[49m\n\u001b[32m    670\u001b[39m \u001b[43m        \u001b[49m\u001b[43mbody\u001b[49m\u001b[43m=\u001b[49m\u001b[43mrequest\u001b[49m\u001b[43m.\u001b[49m\u001b[43mbody\u001b[49m\u001b[43m,\u001b[49m\n\u001b[32m    671\u001b[39m \u001b[43m        \u001b[49m\u001b[43mheaders\u001b[49m\u001b[43m=\u001b[49m\u001b[43mrequest\u001b[49m\u001b[43m.\u001b[49m\u001b[43mheaders\u001b[49m\u001b[43m,\u001b[49m\n\u001b[32m    672\u001b[39m \u001b[43m        \u001b[49m\u001b[43mredirect\u001b[49m\u001b[43m=\u001b[49m\u001b[38;5;28;43;01mFalse\u001b[39;49;00m\u001b[43m,\u001b[49m\n\u001b[32m    673\u001b[39m \u001b[43m        \u001b[49m\u001b[43massert_same_host\u001b[49m\u001b[43m=\u001b[49m\u001b[38;5;28;43;01mFalse\u001b[39;49;00m\u001b[43m,\u001b[49m\n\u001b[32m    674\u001b[39m \u001b[43m        \u001b[49m\u001b[43mpreload_content\u001b[49m\u001b[43m=\u001b[49m\u001b[38;5;28;43;01mFalse\u001b[39;49;00m\u001b[43m,\u001b[49m\n\u001b[32m    675\u001b[39m \u001b[43m        \u001b[49m\u001b[43mdecode_content\u001b[49m\u001b[43m=\u001b[49m\u001b[38;5;28;43;01mFalse\u001b[39;49;00m\u001b[43m,\u001b[49m\n\u001b[32m    676\u001b[39m \u001b[43m        \u001b[49m\u001b[43mretries\u001b[49m\u001b[43m=\u001b[49m\u001b[38;5;28;43mself\u001b[39;49m\u001b[43m.\u001b[49m\u001b[43mmax_retries\u001b[49m\u001b[43m,\u001b[49m\n\u001b[32m    677\u001b[39m \u001b[43m        \u001b[49m\u001b[43mtimeout\u001b[49m\u001b[43m=\u001b[49m\u001b[43mtimeout\u001b[49m\u001b[43m,\u001b[49m\n\u001b[32m    678\u001b[39m \u001b[43m        \u001b[49m\u001b[43mchunked\u001b[49m\u001b[43m=\u001b[49m\u001b[43mchunked\u001b[49m\u001b[43m,\u001b[49m\n\u001b[32m    679\u001b[39m \u001b[43m    \u001b[49m\u001b[43m)\u001b[49m\n\u001b[32m    681\u001b[39m \u001b[38;5;28;01mexcept\u001b[39;00m (ProtocolError, \u001b[38;5;167;01mOSError\u001b[39;00m) \u001b[38;5;28;01mas\u001b[39;00m err:\n\u001b[32m    682\u001b[39m     \u001b[38;5;28;01mraise\u001b[39;00m \u001b[38;5;167;01mConnectionError\u001b[39;00m(err, request=request)\n",
            "\u001b[36mFile \u001b[39m\u001b[32mc:\\Users\\user\\anaconda3\\envs\\side_attacks\\Lib\\site-packages\\urllib3\\connectionpool.py:787\u001b[39m, in \u001b[36mHTTPConnectionPool.urlopen\u001b[39m\u001b[34m(self, method, url, body, headers, retries, redirect, assert_same_host, timeout, pool_timeout, release_conn, chunked, body_pos, preload_content, decode_content, **response_kw)\u001b[39m\n\u001b[32m    784\u001b[39m response_conn = conn \u001b[38;5;28;01mif\u001b[39;00m \u001b[38;5;129;01mnot\u001b[39;00m release_conn \u001b[38;5;28;01melse\u001b[39;00m \u001b[38;5;28;01mNone\u001b[39;00m\n\u001b[32m    786\u001b[39m \u001b[38;5;66;03m# Make the request on the HTTPConnection object\u001b[39;00m\n\u001b[32m--> \u001b[39m\u001b[32m787\u001b[39m response = \u001b[38;5;28;43mself\u001b[39;49m\u001b[43m.\u001b[49m\u001b[43m_make_request\u001b[49m\u001b[43m(\u001b[49m\n\u001b[32m    788\u001b[39m \u001b[43m    \u001b[49m\u001b[43mconn\u001b[49m\u001b[43m,\u001b[49m\n\u001b[32m    789\u001b[39m \u001b[43m    \u001b[49m\u001b[43mmethod\u001b[49m\u001b[43m,\u001b[49m\n\u001b[32m    790\u001b[39m \u001b[43m    \u001b[49m\u001b[43murl\u001b[49m\u001b[43m,\u001b[49m\n\u001b[32m    791\u001b[39m \u001b[43m    \u001b[49m\u001b[43mtimeout\u001b[49m\u001b[43m=\u001b[49m\u001b[43mtimeout_obj\u001b[49m\u001b[43m,\u001b[49m\n\u001b[32m    792\u001b[39m \u001b[43m    \u001b[49m\u001b[43mbody\u001b[49m\u001b[43m=\u001b[49m\u001b[43mbody\u001b[49m\u001b[43m,\u001b[49m\n\u001b[32m    793\u001b[39m \u001b[43m    \u001b[49m\u001b[43mheaders\u001b[49m\u001b[43m=\u001b[49m\u001b[43mheaders\u001b[49m\u001b[43m,\u001b[49m\n\u001b[32m    794\u001b[39m \u001b[43m    \u001b[49m\u001b[43mchunked\u001b[49m\u001b[43m=\u001b[49m\u001b[43mchunked\u001b[49m\u001b[43m,\u001b[49m\n\u001b[32m    795\u001b[39m \u001b[43m    \u001b[49m\u001b[43mretries\u001b[49m\u001b[43m=\u001b[49m\u001b[43mretries\u001b[49m\u001b[43m,\u001b[49m\n\u001b[32m    796\u001b[39m \u001b[43m    \u001b[49m\u001b[43mresponse_conn\u001b[49m\u001b[43m=\u001b[49m\u001b[43mresponse_conn\u001b[49m\u001b[43m,\u001b[49m\n\u001b[32m    797\u001b[39m \u001b[43m    \u001b[49m\u001b[43mpreload_content\u001b[49m\u001b[43m=\u001b[49m\u001b[43mpreload_content\u001b[49m\u001b[43m,\u001b[49m\n\u001b[32m    798\u001b[39m \u001b[43m    \u001b[49m\u001b[43mdecode_content\u001b[49m\u001b[43m=\u001b[49m\u001b[43mdecode_content\u001b[49m\u001b[43m,\u001b[49m\n\u001b[32m    799\u001b[39m \u001b[43m    \u001b[49m\u001b[43m*\u001b[49m\u001b[43m*\u001b[49m\u001b[43mresponse_kw\u001b[49m\u001b[43m,\u001b[49m\n\u001b[32m    800\u001b[39m \u001b[43m\u001b[49m\u001b[43m)\u001b[49m\n\u001b[32m    802\u001b[39m \u001b[38;5;66;03m# Everything went great!\u001b[39;00m\n\u001b[32m    803\u001b[39m clean_exit = \u001b[38;5;28;01mTrue\u001b[39;00m\n",
            "\u001b[36mFile \u001b[39m\u001b[32mc:\\Users\\user\\anaconda3\\envs\\side_attacks\\Lib\\site-packages\\urllib3\\connectionpool.py:493\u001b[39m, in \u001b[36mHTTPConnectionPool._make_request\u001b[39m\u001b[34m(self, conn, method, url, body, headers, retries, timeout, chunked, response_conn, preload_content, decode_content, enforce_content_length)\u001b[39m\n\u001b[32m    490\u001b[39m \u001b[38;5;66;03m# conn.request() calls http.client.*.request, not the method in\u001b[39;00m\n\u001b[32m    491\u001b[39m \u001b[38;5;66;03m# urllib3.request. It also calls makefile (recv) on the socket.\u001b[39;00m\n\u001b[32m    492\u001b[39m \u001b[38;5;28;01mtry\u001b[39;00m:\n\u001b[32m--> \u001b[39m\u001b[32m493\u001b[39m     \u001b[43mconn\u001b[49m\u001b[43m.\u001b[49m\u001b[43mrequest\u001b[49m\u001b[43m(\u001b[49m\n\u001b[32m    494\u001b[39m \u001b[43m        \u001b[49m\u001b[43mmethod\u001b[49m\u001b[43m,\u001b[49m\n\u001b[32m    495\u001b[39m \u001b[43m        \u001b[49m\u001b[43murl\u001b[49m\u001b[43m,\u001b[49m\n\u001b[32m    496\u001b[39m \u001b[43m        \u001b[49m\u001b[43mbody\u001b[49m\u001b[43m=\u001b[49m\u001b[43mbody\u001b[49m\u001b[43m,\u001b[49m\n\u001b[32m    497\u001b[39m \u001b[43m        \u001b[49m\u001b[43mheaders\u001b[49m\u001b[43m=\u001b[49m\u001b[43mheaders\u001b[49m\u001b[43m,\u001b[49m\n\u001b[32m    498\u001b[39m \u001b[43m        \u001b[49m\u001b[43mchunked\u001b[49m\u001b[43m=\u001b[49m\u001b[43mchunked\u001b[49m\u001b[43m,\u001b[49m\n\u001b[32m    499\u001b[39m \u001b[43m        \u001b[49m\u001b[43mpreload_content\u001b[49m\u001b[43m=\u001b[49m\u001b[43mpreload_content\u001b[49m\u001b[43m,\u001b[49m\n\u001b[32m    500\u001b[39m \u001b[43m        \u001b[49m\u001b[43mdecode_content\u001b[49m\u001b[43m=\u001b[49m\u001b[43mdecode_content\u001b[49m\u001b[43m,\u001b[49m\n\u001b[32m    501\u001b[39m \u001b[43m        \u001b[49m\u001b[43menforce_content_length\u001b[49m\u001b[43m=\u001b[49m\u001b[43menforce_content_length\u001b[49m\u001b[43m,\u001b[49m\n\u001b[32m    502\u001b[39m \u001b[43m    \u001b[49m\u001b[43m)\u001b[49m\n\u001b[32m    504\u001b[39m \u001b[38;5;66;03m# We are swallowing BrokenPipeError (errno.EPIPE) since the server is\u001b[39;00m\n\u001b[32m    505\u001b[39m \u001b[38;5;66;03m# legitimately able to close the connection after sending a valid response.\u001b[39;00m\n\u001b[32m    506\u001b[39m \u001b[38;5;66;03m# With this behaviour, the received response is still readable.\u001b[39;00m\n\u001b[32m    507\u001b[39m \u001b[38;5;28;01mexcept\u001b[39;00m \u001b[38;5;167;01mBrokenPipeError\u001b[39;00m:\n",
            "\u001b[36mFile \u001b[39m\u001b[32mc:\\Users\\user\\anaconda3\\envs\\side_attacks\\Lib\\site-packages\\urllib3\\connection.py:445\u001b[39m, in \u001b[36mHTTPConnection.request\u001b[39m\u001b[34m(self, method, url, body, headers, chunked, preload_content, decode_content, enforce_content_length)\u001b[39m\n\u001b[32m    443\u001b[39m \u001b[38;5;28;01mfor\u001b[39;00m header, value \u001b[38;5;129;01min\u001b[39;00m headers.items():\n\u001b[32m    444\u001b[39m     \u001b[38;5;28mself\u001b[39m.putheader(header, value)\n\u001b[32m--> \u001b[39m\u001b[32m445\u001b[39m \u001b[38;5;28;43mself\u001b[39;49m\u001b[43m.\u001b[49m\u001b[43mendheaders\u001b[49m\u001b[43m(\u001b[49m\u001b[43m)\u001b[49m\n\u001b[32m    447\u001b[39m \u001b[38;5;66;03m# If we're given a body we start sending that in chunks.\u001b[39;00m\n\u001b[32m    448\u001b[39m \u001b[38;5;28;01mif\u001b[39;00m chunks \u001b[38;5;129;01mis\u001b[39;00m \u001b[38;5;129;01mnot\u001b[39;00m \u001b[38;5;28;01mNone\u001b[39;00m:\n",
            "\u001b[36mFile \u001b[39m\u001b[32mc:\\Users\\user\\anaconda3\\envs\\side_attacks\\Lib\\http\\client.py:1333\u001b[39m, in \u001b[36mHTTPConnection.endheaders\u001b[39m\u001b[34m(self, message_body, encode_chunked)\u001b[39m\n\u001b[32m   1331\u001b[39m \u001b[38;5;28;01melse\u001b[39;00m:\n\u001b[32m   1332\u001b[39m     \u001b[38;5;28;01mraise\u001b[39;00m CannotSendHeader()\n\u001b[32m-> \u001b[39m\u001b[32m1333\u001b[39m \u001b[38;5;28;43mself\u001b[39;49m\u001b[43m.\u001b[49m\u001b[43m_send_output\u001b[49m\u001b[43m(\u001b[49m\u001b[43mmessage_body\u001b[49m\u001b[43m,\u001b[49m\u001b[43m \u001b[49m\u001b[43mencode_chunked\u001b[49m\u001b[43m=\u001b[49m\u001b[43mencode_chunked\u001b[49m\u001b[43m)\u001b[49m\n",
            "\u001b[36mFile \u001b[39m\u001b[32mc:\\Users\\user\\anaconda3\\envs\\side_attacks\\Lib\\http\\client.py:1093\u001b[39m, in \u001b[36mHTTPConnection._send_output\u001b[39m\u001b[34m(self, message_body, encode_chunked)\u001b[39m\n\u001b[32m   1091\u001b[39m msg = \u001b[33mb\u001b[39m\u001b[33m\"\u001b[39m\u001b[38;5;130;01m\\r\u001b[39;00m\u001b[38;5;130;01m\\n\u001b[39;00m\u001b[33m\"\u001b[39m.join(\u001b[38;5;28mself\u001b[39m._buffer)\n\u001b[32m   1092\u001b[39m \u001b[38;5;28;01mdel\u001b[39;00m \u001b[38;5;28mself\u001b[39m._buffer[:]\n\u001b[32m-> \u001b[39m\u001b[32m1093\u001b[39m \u001b[38;5;28;43mself\u001b[39;49m\u001b[43m.\u001b[49m\u001b[43msend\u001b[49m\u001b[43m(\u001b[49m\u001b[43mmsg\u001b[49m\u001b[43m)\u001b[49m\n\u001b[32m   1095\u001b[39m \u001b[38;5;28;01mif\u001b[39;00m message_body \u001b[38;5;129;01mis\u001b[39;00m \u001b[38;5;129;01mnot\u001b[39;00m \u001b[38;5;28;01mNone\u001b[39;00m:\n\u001b[32m   1096\u001b[39m \n\u001b[32m   1097\u001b[39m     \u001b[38;5;66;03m# create a consistent interface to message_body\u001b[39;00m\n\u001b[32m   1098\u001b[39m     \u001b[38;5;28;01mif\u001b[39;00m \u001b[38;5;28mhasattr\u001b[39m(message_body, \u001b[33m'\u001b[39m\u001b[33mread\u001b[39m\u001b[33m'\u001b[39m):\n\u001b[32m   1099\u001b[39m         \u001b[38;5;66;03m# Let file-like take precedence over byte-like.  This\u001b[39;00m\n\u001b[32m   1100\u001b[39m         \u001b[38;5;66;03m# is needed to allow the current position of mmap'ed\u001b[39;00m\n\u001b[32m   1101\u001b[39m         \u001b[38;5;66;03m# files to be taken into account.\u001b[39;00m\n",
            "\u001b[36mFile \u001b[39m\u001b[32mc:\\Users\\user\\anaconda3\\envs\\side_attacks\\Lib\\http\\client.py:1037\u001b[39m, in \u001b[36mHTTPConnection.send\u001b[39m\u001b[34m(self, data)\u001b[39m\n\u001b[32m   1035\u001b[39m \u001b[38;5;28;01mif\u001b[39;00m \u001b[38;5;28mself\u001b[39m.sock \u001b[38;5;129;01mis\u001b[39;00m \u001b[38;5;28;01mNone\u001b[39;00m:\n\u001b[32m   1036\u001b[39m     \u001b[38;5;28;01mif\u001b[39;00m \u001b[38;5;28mself\u001b[39m.auto_open:\n\u001b[32m-> \u001b[39m\u001b[32m1037\u001b[39m         \u001b[38;5;28;43mself\u001b[39;49m\u001b[43m.\u001b[49m\u001b[43mconnect\u001b[49m\u001b[43m(\u001b[49m\u001b[43m)\u001b[49m\n\u001b[32m   1038\u001b[39m     \u001b[38;5;28;01melse\u001b[39;00m:\n\u001b[32m   1039\u001b[39m         \u001b[38;5;28;01mraise\u001b[39;00m NotConnected()\n",
            "\u001b[36mFile \u001b[39m\u001b[32mc:\\Users\\user\\anaconda3\\envs\\side_attacks\\Lib\\site-packages\\urllib3\\connection.py:276\u001b[39m, in \u001b[36mHTTPConnection.connect\u001b[39m\u001b[34m(self)\u001b[39m\n\u001b[32m    275\u001b[39m \u001b[38;5;28;01mdef\u001b[39;00m\u001b[38;5;250m \u001b[39m\u001b[34mconnect\u001b[39m(\u001b[38;5;28mself\u001b[39m) -> \u001b[38;5;28;01mNone\u001b[39;00m:\n\u001b[32m--> \u001b[39m\u001b[32m276\u001b[39m     \u001b[38;5;28mself\u001b[39m.sock = \u001b[38;5;28;43mself\u001b[39;49m\u001b[43m.\u001b[49m\u001b[43m_new_conn\u001b[49m\u001b[43m(\u001b[49m\u001b[43m)\u001b[49m\n\u001b[32m    277\u001b[39m     \u001b[38;5;28;01mif\u001b[39;00m \u001b[38;5;28mself\u001b[39m._tunnel_host:\n\u001b[32m    278\u001b[39m         \u001b[38;5;66;03m# If we're tunneling it means we're connected to our proxy.\u001b[39;00m\n\u001b[32m    279\u001b[39m         \u001b[38;5;28mself\u001b[39m._has_connected_to_proxy = \u001b[38;5;28;01mTrue\u001b[39;00m\n",
            "\u001b[36mFile \u001b[39m\u001b[32mc:\\Users\\user\\anaconda3\\envs\\side_attacks\\Lib\\site-packages\\urllib3\\connection.py:198\u001b[39m, in \u001b[36mHTTPConnection._new_conn\u001b[39m\u001b[34m(self)\u001b[39m\n\u001b[32m    193\u001b[39m \u001b[38;5;250m\u001b[39m\u001b[33;03m\"\"\"Establish a socket connection and set nodelay settings on it.\u001b[39;00m\n\u001b[32m    194\u001b[39m \n\u001b[32m    195\u001b[39m \u001b[33;03m:return: New socket connection.\u001b[39;00m\n\u001b[32m    196\u001b[39m \u001b[33;03m\"\"\"\u001b[39;00m\n\u001b[32m    197\u001b[39m \u001b[38;5;28;01mtry\u001b[39;00m:\n\u001b[32m--> \u001b[39m\u001b[32m198\u001b[39m     sock = \u001b[43mconnection\u001b[49m\u001b[43m.\u001b[49m\u001b[43mcreate_connection\u001b[49m\u001b[43m(\u001b[49m\n\u001b[32m    199\u001b[39m \u001b[43m        \u001b[49m\u001b[43m(\u001b[49m\u001b[38;5;28;43mself\u001b[39;49m\u001b[43m.\u001b[49m\u001b[43m_dns_host\u001b[49m\u001b[43m,\u001b[49m\u001b[43m \u001b[49m\u001b[38;5;28;43mself\u001b[39;49m\u001b[43m.\u001b[49m\u001b[43mport\u001b[49m\u001b[43m)\u001b[49m\u001b[43m,\u001b[49m\n\u001b[32m    200\u001b[39m \u001b[43m        \u001b[49m\u001b[38;5;28;43mself\u001b[39;49m\u001b[43m.\u001b[49m\u001b[43mtimeout\u001b[49m\u001b[43m,\u001b[49m\n\u001b[32m    201\u001b[39m \u001b[43m        \u001b[49m\u001b[43msource_address\u001b[49m\u001b[43m=\u001b[49m\u001b[38;5;28;43mself\u001b[39;49m\u001b[43m.\u001b[49m\u001b[43msource_address\u001b[49m\u001b[43m,\u001b[49m\n\u001b[32m    202\u001b[39m \u001b[43m        \u001b[49m\u001b[43msocket_options\u001b[49m\u001b[43m=\u001b[49m\u001b[38;5;28;43mself\u001b[39;49m\u001b[43m.\u001b[49m\u001b[43msocket_options\u001b[49m\u001b[43m,\u001b[49m\n\u001b[32m    203\u001b[39m \u001b[43m    \u001b[49m\u001b[43m)\u001b[49m\n\u001b[32m    204\u001b[39m \u001b[38;5;28;01mexcept\u001b[39;00m socket.gaierror \u001b[38;5;28;01mas\u001b[39;00m e:\n\u001b[32m    205\u001b[39m     \u001b[38;5;28;01mraise\u001b[39;00m NameResolutionError(\u001b[38;5;28mself\u001b[39m.host, \u001b[38;5;28mself\u001b[39m, e) \u001b[38;5;28;01mfrom\u001b[39;00m\u001b[38;5;250m \u001b[39m\u001b[34;01me\u001b[39;00m\n",
            "\u001b[36mFile \u001b[39m\u001b[32mc:\\Users\\user\\anaconda3\\envs\\side_attacks\\Lib\\site-packages\\urllib3\\util\\connection.py:73\u001b[39m, in \u001b[36mcreate_connection\u001b[39m\u001b[34m(address, timeout, source_address, socket_options)\u001b[39m\n\u001b[32m     71\u001b[39m \u001b[38;5;28;01mif\u001b[39;00m source_address:\n\u001b[32m     72\u001b[39m     sock.bind(source_address)\n\u001b[32m---> \u001b[39m\u001b[32m73\u001b[39m \u001b[43msock\u001b[49m\u001b[43m.\u001b[49m\u001b[43mconnect\u001b[49m\u001b[43m(\u001b[49m\u001b[43msa\u001b[49m\u001b[43m)\u001b[49m\n\u001b[32m     74\u001b[39m \u001b[38;5;66;03m# Break explicitly a reference cycle\u001b[39;00m\n\u001b[32m     75\u001b[39m err = \u001b[38;5;28;01mNone\u001b[39;00m\n",
            "\u001b[31mKeyboardInterrupt\u001b[39m: "
          ]
        }
      ],
      "source": [
        "for difficulty in range(5, DIFFICULTY_TO_DOWNLOAD + 1):\n",
        "    download_power_traces(difficulty)\n",
        "    print(f\"Downloaded {AMOUNT_OF_TRACES} traces for difficulty level {difficulty}.\")\n",
        "print(f\"Downloaded {AMOUNT_OF_TRACES} traces for each difficulty level up to {DIFFICULTY_TO_DOWNLOAD}.\")"
      ]
    },
    {
      "cell_type": "markdown",
      "metadata": {},
      "source": [
        "# Finding the Keys"
      ]
    },
    {
      "cell_type": "code",
      "execution_count": 12,
      "metadata": {},
      "outputs": [],
      "source": [
        "def check_if_correct_key(key: str, difficulty: int = DIFFICULTY, url: str = PREFIX_VERIFY_URL):\n",
        "    url = f\"{url}&difficulty={difficulty}&key={key}\"\n",
        "    response = requests.get(url)\n",
        "    return response.text.strip() == \"1\""
      ]
    },
    {
      "cell_type": "code",
      "execution_count": 23,
      "id": "156e3b10",
      "metadata": {},
      "outputs": [
        {
          "name": "stdout",
          "output_type": "stream",
          "text": [
            "files\\plaintext_208009845_1_10000.txt files\\traces_208009845_1_10000.txt 80 0.7319551667170511\n",
            "Early stop, Byte 0: Best guess 77 with correlation 0.8261\n",
            "Early stop, Byte 1: Best guess 69 with correlation 0.8067\n",
            "Early stop, Byte 2: Best guess 0e with correlation 0.7836\n",
            "Early stop, Byte 3: Best guess 57 with correlation 0.7869\n",
            "Early stop, Byte 4: Best guess 39 with correlation 0.7800\n",
            "Early stop, Byte 5: Best guess 2d with correlation 0.8467\n",
            "Early stop, Byte 6: Best guess 53 with correlation 0.8307\n",
            "Early stop, Byte 7: Best guess ac with correlation 0.8201\n",
            "Early stop, Byte 8: Best guess 2a with correlation 0.8128\n",
            "Early stop, Byte 9: Best guess 53 with correlation 0.7890\n",
            "Early stop, Byte 10: Best guess 12 with correlation 0.7819\n",
            "Early stop, Byte 11: Best guess cb with correlation 0.7822\n",
            "Early stop, Byte 12: Best guess ea with correlation 0.7992\n",
            "Early stop, Byte 13: Best guess 08 with correlation 0.8195\n",
            "Early stop, Byte 14: Best guess 62 with correlation 0.8237\n",
            "Byte 15: Best guess 52 with correlation 0.7308\n",
            "user: 208009845,key: 77690e57392d53ac2a5312cbea086252,difficulty: 1,traces: 80, early stopping: 0.7319551667170511, time: 12.75\n",
            "files\\plaintext_208009845_2_10000.txt files\\traces_208009845_2_10000.txt 210 0.549890553303691\n",
            "Early stop, Byte 0: Best guess 55 with correlation 0.5665\n",
            "Byte 1: Best guess f7 with correlation 0.5109\n",
            "Early stop, Byte 2: Best guess 21 with correlation 0.5610\n",
            "Early stop, Byte 3: Best guess 54 with correlation 0.5556\n",
            "Early stop, Byte 4: Best guess 21 with correlation 0.5643\n",
            "Byte 5: Best guess ad with correlation 0.5433\n",
            "Byte 6: Best guess af with correlation 0.5360\n",
            "Early stop, Byte 7: Best guess cc with correlation 0.5573\n",
            "Byte 8: Best guess 71 with correlation 0.4676\n",
            "Byte 9: Best guess 7b with correlation 0.4844\n",
            "Byte 10: Best guess 1e with correlation 0.5481\n",
            "Early stop, Byte 11: Best guess 35 with correlation 0.5975\n",
            "Early stop, Byte 12: Best guess 34 with correlation 0.6365\n",
            "Early stop, Byte 13: Best guess 04 with correlation 0.6054\n",
            "Early stop, Byte 14: Best guess c3 with correlation 0.5502\n",
            "Byte 15: Best guess 8a with correlation 0.5089\n",
            "user: 208009845,key: 55f7215421adafcc717b1e353404c38a,difficulty: 2,traces: 210, early stopping: 0.549890553303691, time: 33.85\n",
            "files\\plaintext_208009845_3_10000.txt files\\traces_208009845_3_10000.txt 340 0.41311221555941147\n",
            "Byte 0: Best guess 5c with correlation 0.3926\n",
            "Early stop, Byte 1: Best guess 61 with correlation 0.4213\n",
            "Byte 2: Best guess b1 with correlation 0.3878\n",
            "Early stop, Byte 3: Best guess e7 with correlation 0.5051\n",
            "Byte 4: Best guess f4 with correlation 0.3739\n",
            "Byte 5: Best guess 1a with correlation 0.3587\n",
            "Byte 6: Best guess 01 with correlation 0.4128\n",
            "Early stop, Byte 7: Best guess 6b with correlation 0.4293\n",
            "Byte 8: Best guess 7f with correlation 0.3977\n",
            "Byte 9: Best guess a4 with correlation 0.3513\n",
            "Byte 10: Best guess a5 with correlation 0.4068\n",
            "Byte 11: Best guess c6 with correlation 0.3956\n",
            "Byte 12: Best guess 43 with correlation 0.3612\n",
            "Early stop, Byte 13: Best guess f8 with correlation 0.4286\n",
            "Early stop, Byte 14: Best guess e6 with correlation 0.4950\n",
            "Early stop, Byte 15: Best guess 2b with correlation 0.4352\n",
            "user: 208009845,key: 5c61b1e7f41a016b7fa4a5c643f8e62b,difficulty: 3,traces: 340, early stopping: 0.41311221555941147, time: 66.17\n",
            "files\\plaintext_208009845_4_10000.txt files\\traces_208009845_4_10000.txt 470 0.3103557637407773\n",
            "Byte 0: Best guess 9a with correlation 0.2951\n",
            "Byte 1: Best guess b6 with correlation 0.3081\n",
            "Early stop, Byte 2: Best guess 63 with correlation 0.3234\n",
            "Early stop, Byte 3: Best guess 67 with correlation 0.3567\n",
            "Early stop, Byte 4: Best guess fb with correlation 0.3363\n",
            "Early stop, Byte 5: Best guess f2 with correlation 0.3431\n",
            "Early stop, Byte 6: Best guess f0 with correlation 0.3720\n",
            "Byte 7: Best guess 1f with correlation 0.2541\n",
            "Early stop, Byte 8: Best guess 61 with correlation 0.3679\n",
            "Byte 9: Best guess 91 with correlation 0.3044\n",
            "Early stop, Byte 10: Best guess 42 with correlation 0.3848\n",
            "Early stop, Byte 11: Best guess 33 with correlation 0.3683\n",
            "Early stop, Byte 12: Best guess 98 with correlation 0.3467\n",
            "Byte 13: Best guess b5 with correlation 0.2648\n",
            "Byte 14: Best guess bf with correlation 0.2917\n",
            "Byte 15: Best guess 2b with correlation 0.2898\n",
            "user: 208009845,key: 9ab66367fbf2f01f6191423398b5bf2b,difficulty: 4,traces: 470, early stopping: 0.3103557637407773, time: 75.03\n",
            "files\\plaintext_208009845_5_10000.txt files\\traces_208009845_5_10000.txt 600 0.23315868294209008\n"
          ]
        },
        {
          "ename": "FileNotFoundError",
          "evalue": "[Errno 2] No such file or directory: 'files\\\\plaintext_208009845_5_10000.txt'",
          "output_type": "error",
          "traceback": [
            "\u001b[31m---------------------------------------------------------------------------\u001b[39m",
            "\u001b[31mFileNotFoundError\u001b[39m                         Traceback (most recent call last)",
            "\u001b[36mCell\u001b[39m\u001b[36m \u001b[39m\u001b[32mIn[23]\u001b[39m\u001b[32m, line 14\u001b[39m\n\u001b[32m     12\u001b[39m \u001b[38;5;28mprint\u001b[39m(plaintext_filename, traces_filename, traces, early_stop)\n\u001b[32m     13\u001b[39m start_time = time.time()\n\u001b[32m---> \u001b[39m\u001b[32m14\u001b[39m key = \u001b[43mfind_key\u001b[49m\u001b[43m(\u001b[49m\u001b[43mearly_stop\u001b[49m\u001b[43m \u001b[49m\u001b[43m,\u001b[49m\u001b[43m \u001b[49m\u001b[43mplaintext_filename\u001b[49m\u001b[43m,\u001b[49m\u001b[43m \u001b[49m\u001b[43mtraces_filename\u001b[49m\u001b[43m,\u001b[49m\u001b[43m \u001b[49m\u001b[43mtraces\u001b[49m\u001b[43m)\u001b[49m\n\u001b[32m     15\u001b[39m elapsed_time = time.time() - start_time\n\u001b[32m     16\u001b[39m \u001b[38;5;28;01mif\u001b[39;00m elapsed_time > TIME_LIMIT:\n",
            "\u001b[36mCell\u001b[39m\u001b[36m \u001b[39m\u001b[32mIn[15]\u001b[39m\u001b[32m, line 4\u001b[39m, in \u001b[36mfind_key\u001b[39m\u001b[34m(trashhold, plaintext_filename, traces_filename, amount_of_traces, key_length)\u001b[39m\n\u001b[32m      1\u001b[39m \u001b[38;5;28;01mdef\u001b[39;00m\u001b[38;5;250m \u001b[39m\u001b[34mfind_key\u001b[39m(trashhold, plaintext_filename, traces_filename, amount_of_traces: \u001b[38;5;28mint\u001b[39m = AMOUNT_OF_TRACES, key_length: \u001b[38;5;28mint\u001b[39m = KEY_LENGTH):\n\u001b[32m      2\u001b[39m     \u001b[38;5;66;03m# Load plaintexts from plaintext_filename\u001b[39;00m\n\u001b[32m      3\u001b[39m     plaintexts = []\n\u001b[32m----> \u001b[39m\u001b[32m4\u001b[39m     \u001b[38;5;28;01mwith\u001b[39;00m \u001b[38;5;28;43mopen\u001b[39;49m\u001b[43m(\u001b[49m\u001b[43mplaintext_filename\u001b[49m\u001b[43m,\u001b[49m\u001b[43m \u001b[49m\u001b[33;43m'\u001b[39;49m\u001b[33;43mr\u001b[39;49m\u001b[33;43m'\u001b[39;49m\u001b[43m)\u001b[49m \u001b[38;5;28;01mas\u001b[39;00m pf:\n\u001b[32m      5\u001b[39m         \u001b[38;5;28;01mfor\u001b[39;00m index, line \u001b[38;5;129;01min\u001b[39;00m \u001b[38;5;28menumerate\u001b[39m(pf):\n\u001b[32m      6\u001b[39m             \u001b[38;5;28;01mif\u001b[39;00m index == amount_of_traces:\n",
            "\u001b[36mFile \u001b[39m\u001b[32mc:\\Users\\user\\anaconda3\\envs\\side_attacks\\Lib\\site-packages\\IPython\\core\\interactiveshell.py:325\u001b[39m, in \u001b[36m_modified_open\u001b[39m\u001b[34m(file, *args, **kwargs)\u001b[39m\n\u001b[32m    318\u001b[39m \u001b[38;5;28;01mif\u001b[39;00m file \u001b[38;5;129;01min\u001b[39;00m {\u001b[32m0\u001b[39m, \u001b[32m1\u001b[39m, \u001b[32m2\u001b[39m}:\n\u001b[32m    319\u001b[39m     \u001b[38;5;28;01mraise\u001b[39;00m \u001b[38;5;167;01mValueError\u001b[39;00m(\n\u001b[32m    320\u001b[39m         \u001b[33mf\u001b[39m\u001b[33m\"\u001b[39m\u001b[33mIPython won\u001b[39m\u001b[33m'\u001b[39m\u001b[33mt let you open fd=\u001b[39m\u001b[38;5;132;01m{\u001b[39;00mfile\u001b[38;5;132;01m}\u001b[39;00m\u001b[33m by default \u001b[39m\u001b[33m\"\u001b[39m\n\u001b[32m    321\u001b[39m         \u001b[33m\"\u001b[39m\u001b[33mas it is likely to crash IPython. If you know what you are doing, \u001b[39m\u001b[33m\"\u001b[39m\n\u001b[32m    322\u001b[39m         \u001b[33m\"\u001b[39m\u001b[33myou can use builtins\u001b[39m\u001b[33m'\u001b[39m\u001b[33m open.\u001b[39m\u001b[33m\"\u001b[39m\n\u001b[32m    323\u001b[39m     )\n\u001b[32m--> \u001b[39m\u001b[32m325\u001b[39m \u001b[38;5;28;01mreturn\u001b[39;00m \u001b[43mio_open\u001b[49m\u001b[43m(\u001b[49m\u001b[43mfile\u001b[49m\u001b[43m,\u001b[49m\u001b[43m \u001b[49m\u001b[43m*\u001b[49m\u001b[43margs\u001b[49m\u001b[43m,\u001b[49m\u001b[43m \u001b[49m\u001b[43m*\u001b[49m\u001b[43m*\u001b[49m\u001b[43mkwargs\u001b[49m\u001b[43m)\u001b[49m\n",
            "\u001b[31mFileNotFoundError\u001b[39m: [Errno 2] No such file or directory: 'files\\\\plaintext_208009845_5_10000.txt'"
          ]
        }
      ],
      "source": [
        "import math\n",
        "\n",
        "difficulty = DIFFICULTY\n",
        "while True:\n",
        "    plaintext_filename = os.path.join(\"files\", f\"{PREFIX_PLAINTEXT_FILE_NAME}_{difficulty}_{AMOUNT_OF_TRACES}.txt\")\n",
        "    traces_filename = os.path.join(\"files\", f\"{PREFIX_TRACES_FILE_NAME}_{difficulty}_{AMOUNT_OF_TRACES}.txt\")\n",
        "\n",
        "\n",
        "    #means, variances = getMeansVariances()\n",
        "    early_stop = 0.9743 * math.exp(-0.286 * difficulty)\n",
        "    traces = 130 * difficulty - 50\n",
        "    print(plaintext_filename, traces_filename, traces, early_stop)\n",
        "    start_time = time.time()\n",
        "    key = find_key(early_stop , plaintext_filename, traces_filename, traces)\n",
        "    elapsed_time = time.time() - start_time\n",
        "    if elapsed_time > TIME_LIMIT:\n",
        "        print(f\"Total runtime: {last_elapsed_time} seconds\")\n",
        "    if not check_if_correct_key(key, difficulty):\n",
        "        print(f\"Key {key} is incorrect for difficulty {difficulty}.\")\n",
        "        break\n",
        "    print(f\"user: {USER},key: {key},difficulty: {difficulty},traces: {traces}, early stopping: {early_stop}, time: {elapsed_time:.2f}\")\n",
        "    difficulty += 1\n",
        "    last_elapsed_time = elapsed_time\n"
      ]
    }
  ],
  "metadata": {
    "colab": {
      "provenance": []
    },
    "kernelspec": {
      "display_name": "side_attacks",
      "language": "python",
      "name": "python3"
    },
    "language_info": {
      "codemirror_mode": {
        "name": "ipython",
        "version": 3
      },
      "file_extension": ".py",
      "mimetype": "text/x-python",
      "name": "python",
      "nbconvert_exporter": "python",
      "pygments_lexer": "ipython3",
      "version": "3.12.9"
    }
  },
  "nbformat": 4,
  "nbformat_minor": 5
}
