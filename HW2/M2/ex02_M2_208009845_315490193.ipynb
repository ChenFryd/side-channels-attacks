{
  "cells": [
    {
      "cell_type": "markdown",
      "id": "61b88ca7",
      "metadata": {
        "id": "61b88ca7"
      },
      "source": [
        "# Correlation Power Analysis\n",
        "Submitters:\n",
        "1. Chen Frydman 208009845\n",
        "2. Hadi Shaheen 315490193"
      ]
    },
    {
      "cell_type": "markdown",
      "id": "c675fe2e",
      "metadata": {
        "id": "c675fe2e"
      },
      "source": [
        "```bash\n",
        "docker pull annakul1/attacks_on_implementations:Assignment2\n",
        "docker run -p 80:8080 annakul1/attacks_on_implementations:Assignment2\n",
        "```"
      ]
    },
    {
      "cell_type": "markdown",
      "id": "e464ae3a",
      "metadata": {
        "id": "e464ae3a"
      },
      "source": [
        "# Imports"
      ]
    },
    {
      "cell_type": "code",
      "execution_count": null,
      "id": "795af469",
      "metadata": {
        "id": "795af469"
      },
      "outputs": [],
      "source": [
        "import requests\n",
        "import numpy as np\n",
        "import time\n",
        "import os"
      ]
    },
    {
      "cell_type": "markdown",
      "id": "536b7e83",
      "metadata": {
        "id": "536b7e83"
      },
      "source": [
        "# Parameters"
      ]
    },
    {
      "cell_type": "code",
      "execution_count": 122,
      "id": "01b09528",
      "metadata": {
        "id": "01b09528",
        "outputId": "ee5eaf11-d15c-4362-8302-e6d45d7b184a"
      },
      "outputs": [
        {
          "name": "stdout",
          "output_type": "stream",
          "text": [
            "http://aoi-assignment2.oy.ne.ro:8080/encrypt?user=208009845&difficulty=1\n"
          ]
        }
      ],
      "source": [
        "USER = 208009845\n",
        "DIFFICULTY = 1\n",
        "BASE_URL = \"aoi-assignment2.oy.ne.ro:8080\"\n",
        "#BASE_URL = \"127.0.0.1\"\n",
        "MAX_PLAINTEXT_LENGTH = 32\n",
        "MAX_KEY_LENGTHH = 32\n",
        "AMOUNT_OF_TRACES = 10000\n",
        "TIME_LIMIT = 10 * 60 # 10 minutes in seconds\n",
        "DIFFICULTY_TO_DOWNLOAD = 30\n",
        "KEY_LENGTH = 16\n",
        "PREFIX_TRACES_FILE_NAME = f\"traces_{USER}\"\n",
        "PREFIX_PLAINTEXT_FILE_NAME = f\"plaintext_{USER}\"\n",
        "PREFIX_ENCRYPT_URL = rf\"http://{BASE_URL}/encrypt?user={USER}\"\n",
        "PREFIX_VERIFY_URL = rf\"http://{BASE_URL}/verify?user={USER}\"\n",
        "\n",
        "AesSbox = np.array([\n",
        "    0x63,0x7c,0x77,0x7b,0xf2,0x6b,0x6f,0xc5,0x30,0x01,0x67,0x2b,0xfe,0xd7,0xab,0x76,\n",
        "    0xca,0x82,0xc9,0x7d,0xfa,0x59,0x47,0xf0,0xad,0xd4,0xa2,0xaf,0x9c,0xa4,0x72,0xc0,\n",
        "    0xb7,0xfd,0x93,0x26,0x36,0x3f,0xf7,0xcc,0x34,0xa5,0xe5,0xf1,0x71,0xd8,0x31,0x15,\n",
        "    0x04,0xc7,0x23,0xc3,0x18,0x96,0x05,0x9a,0x07,0x12,0x80,0xe2,0xeb,0x27,0xb2,0x75,\n",
        "    0x09,0x83,0x2c,0x1a,0x1b,0x6e,0x5a,0xa0,0x52,0x3b,0xd6,0xb3,0x29,0xe3,0x2f,0x84,\n",
        "    0x53,0xd1,0x00,0xed,0x20,0xfc,0xb1,0x5b,0x6a,0xcb,0xbe,0x39,0x4a,0x4c,0x58,0xcf,\n",
        "    0xd0,0xef,0xaa,0xfb,0x43,0x4d,0x33,0x85,0x45,0xf9,0x02,0x7f,0x50,0x3c,0x9f,0xa8,\n",
        "    0x51,0xa3,0x40,0x8f,0x92,0x9d,0x38,0xf5,0xbc,0xb6,0xda,0x21,0x10,0xff,0xf3,0xd2,\n",
        "    0xcd,0x0c,0x13,0xec,0x5f,0x97,0x44,0x17,0xc4,0xa7,0x7e,0x3d,0x64,0x5d,0x19,0x73,\n",
        "    0x60,0x81,0x4f,0xdc,0x22,0x2a,0x90,0x88,0x46,0xee,0xb8,0x14,0xde,0x5e,0x0b,0xdb,\n",
        "    0xe0,0x32,0x3a,0x0a,0x49,0x06,0x24,0x5c,0xc2,0xd3,0xac,0x62,0x91,0x95,0xe4,0x79,\n",
        "    0xe7,0xc8,0x37,0x6d,0x8d,0xd5,0x4e,0xa9,0x6c,0x56,0xf4,0xea,0x65,0x7a,0xae,0x08,\n",
        "    0xba,0x78,0x25,0x2e,0x1c,0xa6,0xb4,0xc6,0xe8,0xdd,0x74,0x1f,0x4b,0xbd,0x8b,0x8a,\n",
        "    0x70,0x3e,0xb5,0x66,0x48,0x03,0xf6,0x0e,0x61,0x35,0x57,0xb9,0x86,0xc1,0x1d,0x9e,\n",
        "    0xe1,0xf8,0x98,0x11,0x69,0xd9,0x8e,0x94,0x9b,0x1e,0x87,0xe9,0xce,0x55,0x28,0xdf,\n",
        "    0x8c,0xa1,0x89,0x0d,0xbf,0xe6,0x42,0x68,0x41,0x99,0x2d,0x0f,0xb0,0x54,0xbb,0x16\n",
        "], dtype=np.uint8)\n",
        "\n",
        "print(f\"{PREFIX_ENCRYPT_URL}&difficulty={DIFFICULTY}\")"
      ]
    },
    {
      "cell_type": "markdown",
      "id": "2ec45c4f",
      "metadata": {},
      "source": [
        "# Crack the key"
      ]
    },
    {
      "cell_type": "code",
      "execution_count": null,
      "id": "0ddd28d0",
      "metadata": {
        "id": "0ddd28d0"
      },
      "outputs": [],
      "source": [
        "def download_power_traces(\n",
        "    difficulty: int = DIFFICULTY,\n",
        "    prefix_traces_filename: str = PREFIX_TRACES_FILE_NAME,\n",
        "    prefix_plaintext_filename: str = PREFIX_PLAINTEXT_FILE_NAME,\n",
        "    serverURL: str = PREFIX_ENCRYPT_URL,\n",
        "    number_of_power_traces: int = AMOUNT_OF_TRACES,\n",
        "):\n",
        "    os.makedirs(\"files\", exist_ok=True)\n",
        "    traces_filename = f\"{prefix_traces_filename}_{difficulty}_{number_of_power_traces}.txt\"\n",
        "    traces_filepath = os.path.join(\"files\", traces_filename)\n",
        "    plaintext_filename = f\"{prefix_plaintext_filename}_{difficulty}_{number_of_power_traces}.txt\"\n",
        "    plaintext_filepath = os.path.join(\"files\", plaintext_filename)\n",
        "\n",
        "    if os.path.exists(traces_filepath) and os.path.exists(plaintext_filepath):\n",
        "        print(f\"{traces_filepath} and {plaintext_filepath} already exist. Skipping download.\")\n",
        "        return\n",
        "\n",
        "    url = f\"{serverURL}&difficulty={difficulty}\"\n",
        "\n",
        "    def fetch_trace(_):\n",
        "        \"\"\"\n",
        "        Fetch a single power trace and its corresponding plaintext from the server.\n",
        "        Args:\n",
        "            _: Unused argument for the ThreadPoolExecutor.\n",
        "        Returns:\n",
        "            nothing, but writes the plaintext and leaks to files.\n",
        "        \"\"\"\n",
        "        session = requests.Session()\n",
        "        retries = 3\n",
        "        for attempt in range(retries):\n",
        "            try:\n",
        "                resp = session.get(url, timeout=5)\n",
        "                resp.raise_for_status()\n",
        "                data = resp.json()\n",
        "                plaintext = \"\".join(map(str, data[\"plaintext\"]))\n",
        "                leaks = \" \".join(map(str, data[\"leaks\"]))\n",
        "                time.sleep(0.1)  # Add slight delay here\n",
        "                return plaintext, leaks\n",
        "            except (requests.RequestException, ValueError) as e:\n",
        "                if attempt < retries - 1:\n",
        "                    time.sleep(0.5 * 2 ** attempt)\n",
        "                else:\n",
        "                    raise e\n",
        "\n",
        "\n",
        "    with concurrent.futures.ThreadPoolExecutor(max_workers=16) as executor:\n",
        "        results = list(executor.map(fetch_trace, range(number_of_power_traces)))\n",
        "\n",
        "    with open(plaintext_filepath, \"w\") as plaintext_file, open(traces_filepath, \"w\") as traces_file:\n",
        "        for plaintext, leaks in results:\n",
        "            plaintext_file.write(plaintext + \"\\n\")\n",
        "            traces_file.write(leaks + \"\\n\")\n",
        "\n",
        "\n",
        "def getMeansVariances(filename: str):\n",
        "    \"\"\"\n",
        "    Reads the file containing saved power traces and calculates the mean and variance\n",
        "    of each position in the trace.\n",
        "\n",
        "    Args:\n",
        "        filename (str): The name of the file containing the saved power traces.\n",
        "\n",
        "    Returns:\n",
        "        tuple: A tuple containing two lists:\n",
        "            - means (list): A list of means for each position in the trace.\n",
        "            - variances (list): A list of variances for each position in the trace.\n",
        "    \"\"\"\n",
        "    if not os.path.exists(filename):\n",
        "        raise FileNotFoundError(f\"{filename} does not exist. Please download the power traces first.\")\n",
        "\n",
        "    data = np.loadtxt(filename)\n",
        "    means = np.mean(data, axis=0)\n",
        "    variances = np.var(data, axis=0)\n",
        "    print(\"Mean\\tVariance\")\n",
        "    for m, v in zip(means, variances):\n",
        "        print(f\"{m}\\t{v}\")\n",
        "    return means.tolist(), variances.tolist()"
      ]
    },
    {
      "cell_type": "code",
      "execution_count": null,
      "id": "acb76cdd",
      "metadata": {},
      "outputs": [],
      "source": [
        "hamming_weight_lut = np.array([bin(i).count('1') for i in range(256)], dtype=np.uint8)\n",
        "\n",
        "def load_plaintexts(fname, amount):\n",
        "    with open(fname, 'r') as f:\n",
        "        lines = [line.strip() for _, line in zip(range(amount), f)]\n",
        "    \n",
        "    length = len(lines[0])\n",
        "    for line in lines:\n",
        "        if len(line) != length or len(line) % 2 != 0:\n",
        "            raise ValueError(f\"Line: {line}, length: {len(line)}, Plaintext lines have inconsistent or odd length\")\n",
        "\n",
        "    pts = [[int(line[i:i+2], 16) for i in range(0, length, 2)] for line in lines]\n",
        "    return np.array(pts, dtype=np.uint8)\n",
        "\n",
        "\n",
        "def load_traces(fname, amount):\n",
        "    with open(fname, 'r') as f:\n",
        "        lines = [line.strip() for _, line in zip(range(amount), f)]\n",
        "    traces = [list(map(float, line.split())) for line in lines]\n",
        "    return np.array(traces, dtype=np.float32)\n",
        "\n",
        "def process_byte(byte_idx, plaintexts, traces):\n",
        "    \"\"\"\n",
        "    Process a single byte of the key by calculating the correlation\n",
        "    between the hamming weight of the intermediate values and the power traces.\n",
        "    Args:\n",
        "        byte_idx (int): The index of the byte to process (0-15 for AES).\n",
        "        plaintexts (np.ndarray): The plaintexts used for encryption, shape (n_traces, key_length).\n",
        "        traces (np.ndarray): The power traces, shape (n_traces, trace_length).\n",
        "    Returns:\n",
        "        string: The best guess for the byte of the key.\n",
        "    \"\"\"\n",
        "    n_traces = traces.shape[0]\n",
        "    pt_bytes = plaintexts[:, byte_idx]\n",
        "\n",
        "    guesses = np.arange(256, dtype=np.uint8)\n",
        "    inter = pt_bytes[:, None] ^ guesses\n",
        "    sbox_out = AesSbox[inter]\n",
        "\n",
        "    hw_xor = hamming_weight_lut[inter]\n",
        "    hw_sbox = hamming_weight_lut[sbox_out]\n",
        "\n",
        "    hw_xor_norm = (hw_xor - hw_xor.mean(axis=0)) / hw_xor.std(axis=0)\n",
        "    hw_sbox_norm = (hw_sbox - hw_sbox.mean(axis=0)) / hw_sbox.std(axis=0)\n",
        "\n",
        "    traces_mean = traces.mean(axis=0)\n",
        "    traces_std = traces.std(axis=0)\n",
        "    traces_norm = (traces - traces_mean) / traces_std  # shape (n_traces, trace_length)\n",
        "\n",
        "    corr_xor = np.abs(np.dot(hw_xor_norm.T, traces_norm) / (n_traces - 1))  # (256, trace_length)\n",
        "    corr_sbox = np.abs(np.dot(hw_sbox_norm.T, traces_norm) / (n_traces - 1))  # (256, trace_length)\n",
        "\n",
        "    total_corr = corr_xor.max(axis=1) + corr_sbox.max(axis=1)  # max correlation per guess\n",
        "\n",
        "    best_guess = np.argmax(total_corr)\n",
        "    best_corr = total_corr[best_guess]\n",
        "\n",
        "    #print(f\"Byte {byte_idx}: Best guess {best_guess:02x} corr {best_corr:.4f}\")\n",
        "    return best_guess\n",
        "\n",
        "\n",
        "def find_key(plaintext_file, trace_file, amount_of_traces, key_length=KEY_LENGTH):\n",
        "    plaintexts = load_plaintexts(plaintext_file, amount_of_traces)\n",
        "    traces = load_traces(trace_file, amount_of_traces)\n",
        "    with concurrent.futures.ThreadPoolExecutor() as executor:\n",
        "        results = executor.map(\n",
        "            process_byte,\n",
        "            range(key_length),\n",
        "            [plaintexts]*key_length,\n",
        "            [traces]*key_length,\n",
        "        )\n",
        "    key_bytes = list(results)\n",
        "    return ''.join(f\"{b:02x}\" for b in key_bytes)"
      ]
    },
    {
      "cell_type": "markdown",
      "id": "81703a79",
      "metadata": {},
      "source": [
        "# Pre Download the files"
      ]
    },
    {
      "cell_type": "code",
      "execution_count": 76,
      "id": "b6fc65da",
      "metadata": {},
      "outputs": [
        {
          "name": "stdout",
          "output_type": "stream",
          "text": [
            "files\\traces_208009845_30_10000.txt and files\\plaintext_208009845_30_10000.txt already exist. Skipping download.\n",
            "Downloaded 10000 traces for difficulty level 30.\n",
            "Downloaded 10000 traces for difficulty level 31.\n",
            "Downloaded 10000 traces for difficulty level 32.\n",
            "Downloaded 10000 traces for difficulty level 33.\n",
            "Downloaded 10000 traces for difficulty level 34.\n",
            "Downloaded 10000 traces for difficulty level 35.\n",
            "Downloaded 10000 traces for difficulty level 36.\n",
            "Downloaded 10000 traces for difficulty level 37.\n",
            "Downloaded 10000 traces for difficulty level 38.\n",
            "Downloaded 10000 traces for difficulty level 39.\n",
            "Downloaded 10000 traces for difficulty level 40.\n",
            "Downloaded 10000 traces for difficulty level 41.\n",
            "Downloaded 10000 traces for difficulty level 42.\n"
          ]
        },
        {
          "ename": "KeyboardInterrupt",
          "evalue": "",
          "output_type": "error",
          "traceback": [
            "\u001b[31m---------------------------------------------------------------------------\u001b[39m",
            "\u001b[31mKeyboardInterrupt\u001b[39m                         Traceback (most recent call last)",
            "\u001b[36mCell\u001b[39m\u001b[36m \u001b[39m\u001b[32mIn[76]\u001b[39m\u001b[32m, line 2\u001b[39m\n\u001b[32m      1\u001b[39m \u001b[38;5;28;01mfor\u001b[39;00m difficulty \u001b[38;5;129;01min\u001b[39;00m \u001b[38;5;28mrange\u001b[39m(\u001b[32m30\u001b[39m, \u001b[32m50\u001b[39m):\n\u001b[32m----> \u001b[39m\u001b[32m2\u001b[39m     \u001b[43mdownload_power_traces\u001b[49m\u001b[43m(\u001b[49m\u001b[43mdifficulty\u001b[49m\u001b[43m)\u001b[49m\n\u001b[32m      3\u001b[39m     \u001b[38;5;28mprint\u001b[39m(\u001b[33mf\u001b[39m\u001b[33m\"\u001b[39m\u001b[33mDownloaded \u001b[39m\u001b[38;5;132;01m{\u001b[39;00mAMOUNT_OF_TRACES\u001b[38;5;132;01m}\u001b[39;00m\u001b[33m traces for difficulty level \u001b[39m\u001b[38;5;132;01m{\u001b[39;00mdifficulty\u001b[38;5;132;01m}\u001b[39;00m\u001b[33m.\u001b[39m\u001b[33m\"\u001b[39m)\n\u001b[32m      4\u001b[39m \u001b[38;5;28mprint\u001b[39m(\u001b[33mf\u001b[39m\u001b[33m\"\u001b[39m\u001b[33mDownloaded \u001b[39m\u001b[38;5;132;01m{\u001b[39;00mAMOUNT_OF_TRACES\u001b[38;5;132;01m}\u001b[39;00m\u001b[33m traces for each difficulty level up to \u001b[39m\u001b[38;5;132;01m{\u001b[39;00mDIFFICULTY_TO_DOWNLOAD\u001b[38;5;132;01m}\u001b[39;00m\u001b[33m.\u001b[39m\u001b[33m\"\u001b[39m)\n",
            "\u001b[36mCell\u001b[39m\u001b[36m \u001b[39m\u001b[32mIn[58]\u001b[39m\u001b[32m, line 40\u001b[39m, in \u001b[36mdownload_power_traces\u001b[39m\u001b[34m(difficulty, prefix_traces_filename, prefix_plaintext_filename, serverURL, number_of_power_traces)\u001b[39m\n\u001b[32m     36\u001b[39m                 \u001b[38;5;28;01mraise\u001b[39;00m e\n\u001b[32m     39\u001b[39m \u001b[38;5;28;01mwith\u001b[39;00m concurrent.futures.ThreadPoolExecutor(max_workers=\u001b[32m16\u001b[39m) \u001b[38;5;28;01mas\u001b[39;00m executor:\n\u001b[32m---> \u001b[39m\u001b[32m40\u001b[39m     results = \u001b[38;5;28;43mlist\u001b[39;49m\u001b[43m(\u001b[49m\u001b[43mexecutor\u001b[49m\u001b[43m.\u001b[49m\u001b[43mmap\u001b[49m\u001b[43m(\u001b[49m\u001b[43mfetch_trace\u001b[49m\u001b[43m,\u001b[49m\u001b[43m \u001b[49m\u001b[38;5;28;43mrange\u001b[39;49m\u001b[43m(\u001b[49m\u001b[43mnumber_of_power_traces\u001b[49m\u001b[43m)\u001b[49m\u001b[43m)\u001b[49m\u001b[43m)\u001b[49m\n\u001b[32m     42\u001b[39m \u001b[38;5;28;01mwith\u001b[39;00m \u001b[38;5;28mopen\u001b[39m(plaintext_filepath, \u001b[33m\"\u001b[39m\u001b[33mw\u001b[39m\u001b[33m\"\u001b[39m) \u001b[38;5;28;01mas\u001b[39;00m plaintext_file, \u001b[38;5;28mopen\u001b[39m(traces_filepath, \u001b[33m\"\u001b[39m\u001b[33mw\u001b[39m\u001b[33m\"\u001b[39m) \u001b[38;5;28;01mas\u001b[39;00m traces_file:\n\u001b[32m     43\u001b[39m     \u001b[38;5;28;01mfor\u001b[39;00m plaintext, leaks \u001b[38;5;129;01min\u001b[39;00m results:\n",
            "\u001b[36mFile \u001b[39m\u001b[32mc:\\Users\\user\\anaconda3\\envs\\side_attacks\\Lib\\concurrent\\futures\\_base.py:619\u001b[39m, in \u001b[36mExecutor.map.<locals>.result_iterator\u001b[39m\u001b[34m()\u001b[39m\n\u001b[32m    616\u001b[39m \u001b[38;5;28;01mwhile\u001b[39;00m fs:\n\u001b[32m    617\u001b[39m     \u001b[38;5;66;03m# Careful not to keep a reference to the popped future\u001b[39;00m\n\u001b[32m    618\u001b[39m     \u001b[38;5;28;01mif\u001b[39;00m timeout \u001b[38;5;129;01mis\u001b[39;00m \u001b[38;5;28;01mNone\u001b[39;00m:\n\u001b[32m--> \u001b[39m\u001b[32m619\u001b[39m         \u001b[38;5;28;01myield\u001b[39;00m \u001b[43m_result_or_cancel\u001b[49m\u001b[43m(\u001b[49m\u001b[43mfs\u001b[49m\u001b[43m.\u001b[49m\u001b[43mpop\u001b[49m\u001b[43m(\u001b[49m\u001b[43m)\u001b[49m\u001b[43m)\u001b[49m\n\u001b[32m    620\u001b[39m     \u001b[38;5;28;01melse\u001b[39;00m:\n\u001b[32m    621\u001b[39m         \u001b[38;5;28;01myield\u001b[39;00m _result_or_cancel(fs.pop(), end_time - time.monotonic())\n",
            "\u001b[36mFile \u001b[39m\u001b[32mc:\\Users\\user\\anaconda3\\envs\\side_attacks\\Lib\\concurrent\\futures\\_base.py:317\u001b[39m, in \u001b[36m_result_or_cancel\u001b[39m\u001b[34m(***failed resolving arguments***)\u001b[39m\n\u001b[32m    315\u001b[39m \u001b[38;5;28;01mtry\u001b[39;00m:\n\u001b[32m    316\u001b[39m     \u001b[38;5;28;01mtry\u001b[39;00m:\n\u001b[32m--> \u001b[39m\u001b[32m317\u001b[39m         \u001b[38;5;28;01mreturn\u001b[39;00m \u001b[43mfut\u001b[49m\u001b[43m.\u001b[49m\u001b[43mresult\u001b[49m\u001b[43m(\u001b[49m\u001b[43mtimeout\u001b[49m\u001b[43m)\u001b[49m\n\u001b[32m    318\u001b[39m     \u001b[38;5;28;01mfinally\u001b[39;00m:\n\u001b[32m    319\u001b[39m         fut.cancel()\n",
            "\u001b[36mFile \u001b[39m\u001b[32mc:\\Users\\user\\anaconda3\\envs\\side_attacks\\Lib\\concurrent\\futures\\_base.py:451\u001b[39m, in \u001b[36mFuture.result\u001b[39m\u001b[34m(self, timeout)\u001b[39m\n\u001b[32m    448\u001b[39m \u001b[38;5;28;01melif\u001b[39;00m \u001b[38;5;28mself\u001b[39m._state == FINISHED:\n\u001b[32m    449\u001b[39m     \u001b[38;5;28;01mreturn\u001b[39;00m \u001b[38;5;28mself\u001b[39m.__get_result()\n\u001b[32m--> \u001b[39m\u001b[32m451\u001b[39m \u001b[38;5;28;43mself\u001b[39;49m\u001b[43m.\u001b[49m\u001b[43m_condition\u001b[49m\u001b[43m.\u001b[49m\u001b[43mwait\u001b[49m\u001b[43m(\u001b[49m\u001b[43mtimeout\u001b[49m\u001b[43m)\u001b[49m\n\u001b[32m    453\u001b[39m \u001b[38;5;28;01mif\u001b[39;00m \u001b[38;5;28mself\u001b[39m._state \u001b[38;5;129;01min\u001b[39;00m [CANCELLED, CANCELLED_AND_NOTIFIED]:\n\u001b[32m    454\u001b[39m     \u001b[38;5;28;01mraise\u001b[39;00m CancelledError()\n",
            "\u001b[36mFile \u001b[39m\u001b[32mc:\\Users\\user\\anaconda3\\envs\\side_attacks\\Lib\\threading.py:355\u001b[39m, in \u001b[36mCondition.wait\u001b[39m\u001b[34m(self, timeout)\u001b[39m\n\u001b[32m    353\u001b[39m \u001b[38;5;28;01mtry\u001b[39;00m:    \u001b[38;5;66;03m# restore state no matter what (e.g., KeyboardInterrupt)\u001b[39;00m\n\u001b[32m    354\u001b[39m     \u001b[38;5;28;01mif\u001b[39;00m timeout \u001b[38;5;129;01mis\u001b[39;00m \u001b[38;5;28;01mNone\u001b[39;00m:\n\u001b[32m--> \u001b[39m\u001b[32m355\u001b[39m         \u001b[43mwaiter\u001b[49m\u001b[43m.\u001b[49m\u001b[43macquire\u001b[49m\u001b[43m(\u001b[49m\u001b[43m)\u001b[49m\n\u001b[32m    356\u001b[39m         gotit = \u001b[38;5;28;01mTrue\u001b[39;00m\n\u001b[32m    357\u001b[39m     \u001b[38;5;28;01melse\u001b[39;00m:\n",
            "\u001b[31mKeyboardInterrupt\u001b[39m: "
          ]
        }
      ],
      "source": [
        "for difficulty in range(30, 50):\n",
        "    download_power_traces(difficulty)\n",
        "    print(f\"Downloaded {AMOUNT_OF_TRACES} traces for difficulty level {difficulty}.\")\n",
        "print(f\"Downloaded {AMOUNT_OF_TRACES} traces for each difficulty level up to {DIFFICULTY_TO_DOWNLOAD}.\")"
      ]
    },
    {
      "cell_type": "markdown",
      "id": "fb076411",
      "metadata": {},
      "source": [
        "# Finding the Keys"
      ]
    },
    {
      "cell_type": "code",
      "execution_count": 126,
      "id": "b9d4de25",
      "metadata": {},
      "outputs": [],
      "source": [
        "def check_if_correct_key(key: str, difficulty: int = DIFFICULTY, url: str = PREFIX_VERIFY_URL, retries=3, delay=2):\n",
        "    for attempt in range(retries):\n",
        "        try:\n",
        "            full_url = f\"{url}&difficulty={difficulty}&key={key}\"\n",
        "            response = requests.get(full_url, timeout=5)\n",
        "            return response.text.strip() == \"1\"\n",
        "        except requests.exceptions.RequestException:\n",
        "            if attempt == retries - 1:\n",
        "                raise\n",
        "            time.sleep(delay)"
      ]
    },
    {
      "cell_type": "code",
      "execution_count": null,
      "id": "156e3b10",
      "metadata": {},
      "outputs": [
        {
          "name": "stdout",
          "output_type": "stream",
          "text": [
            "208009845, 77690e57392d53ac2a5312cbea086252, 1\n",
            "208009845, 55f7215421adafcc717b1e353404c38a, 2\n",
            "208009845, 5c61b1e7f41a016b7fa4a5c643f8e62b, 3\n",
            "208009845, 9ab66367fbf2f01f6191423398b5bf2b, 4\n",
            "208009845, 319af6bf193cff9d514e3f7a7e041197, 5\n",
            "208009845, 051ea239012b17107a523b8c0941ba57, 6\n",
            "208009845, 2d45cc4eac74eb54dfd526fb60e1ceeb, 7\n",
            "208009845, 8b5d4759d9a01aebaaa3c1f756bc7d54, 8\n",
            "208009845, 96aec2982cc88dccec17df7c0b8fa667, 9\n",
            "208009845, 4f09d1d72e19c369f726fe4fbce8f156, 10\n",
            "208009845, cad06c03ad88a329de2c7716619c2760, 11\n",
            "208009845, 971f8827d58f40a553770bf282908736, 12\n",
            "208009845, 303c2be0f51e07e46adc65ad54f2cb1a, 13\n",
            "208009845, 39dd4816321fd8eaf66d5a0ec795391c, 14\n",
            "208009845, 3d0eb04b13c5199a6b5db0099ffcf3eb, 15\n",
            "208009845, e653ec53b90d642fc7512177a692919a, 16\n",
            "208009845, f4ca18e3d03c5d80d7d671e52a85b901, 17\n",
            "208009845, b192d792d17271cc2c3cf1a57b6c5186, 18\n",
            "208009845, 84bef8bfd3d17a38635312e78afacbdc, 19\n",
            "208009845, 7898eb271f65f9b41f3589aba4032ce4, 20\n",
            "208009845, 7fa70a10ef5fc127218a4ce30234d0f6, 21\n",
            "208009845, 9d0c830fc309899efdc2810a814fbc9f, 22\n",
            "208009845, 69e2c67f1373464e49ef1200824aa0b5, 23\n",
            "Total runtime: 27.20 seconds\n"
          ]
        }
      ],
      "source": [
        "start_time = time.time()\n",
        "difficulty = DIFFICULTY\n",
        "while True:\n",
        "    plaintext_filename = os.path.join(\"files\", f\"{PREFIX_PLAINTEXT_FILE_NAME}_{difficulty}_{AMOUNT_OF_TRACES}.txt\")\n",
        "    traces_filename = os.path.join(\"files\", f\"{PREFIX_TRACES_FILE_NAME}_{difficulty}_{AMOUNT_OF_TRACES}.txt\")\n",
        "\n",
        "    traces = 10000\n",
        "    key = find_key(plaintext_filename, traces_filename, traces)\n",
        "    if not check_if_correct_key(key, difficulty):\n",
        "        elapsed_time = time.time() - start_time\n",
        "        print(f\"Total runtime: {elapsed_time:.2f} seconds\")\n",
        "        break\n",
        "    print(f\"{USER}, {key}, {difficulty}\")\n",
        "    difficulty += 1\n"
      ]
    }
  ],
  "metadata": {
    "colab": {
      "provenance": []
    },
    "kernelspec": {
      "display_name": "side_attacks",
      "language": "python",
      "name": "python3"
    },
    "language_info": {
      "codemirror_mode": {
        "name": "ipython",
        "version": 3
      },
      "file_extension": ".py",
      "mimetype": "text/x-python",
      "name": "python",
      "nbconvert_exporter": "python",
      "pygments_lexer": "ipython3",
      "version": "3.12.9"
    }
  },
  "nbformat": 4,
  "nbformat_minor": 5
}
